{
 "cells": [
  {
   "cell_type": "markdown",
   "metadata": {
    "deletable": false,
    "editable": false,
    "nbgrader": {
     "cell_type": "markdown",
     "checksum": "5fa9f96d4ca0144b2db877078cf7b2f8",
     "grade": false,
     "grade_id": "cell-5690119ead85e67e",
     "locked": true,
     "schema_version": 3,
     "solution": false,
     "task": false
    }
   },
   "source": [
    "### Checklist for submission\n",
    "\n",
    "It is extremely important to make sure that:\n",
    "\n",
    "1. Everything runs as expected (no bugs when running cells);\n",
    "2. The output from each cell corresponds to its code (don't change any cell's contents without rerunning it afterwards);\n",
    "3. All outputs are present (don't delete any of the outputs);\n",
    "4. Fill in all the places that say `# YOUR CODE HERE`, or \"**Your answer:** (fill in here)\".\n",
    "5. Never copy/paste any notebook cells. Inserting new cells is allowed, but it should not be necessary.\n",
    "6. The notebook contains some hidden metadata which is important during our grading process. **Make sure not to corrupt any of this metadata!** The metadata may for example be corrupted if you copy/paste any notebook cells, or if you perform an unsuccessful git merge / git pull. It may also be pruned completely if using Google Colab, so watch out for this. Searching for \"nbgrader\" when opening the notebook in a text editor should take you to the important metadata entries.\n",
    "7. Although we will try our very best to avoid this, it may happen that bugs are found after an assignment is released, and that we will push an updated version of the assignment to GitHub. If this happens, it is important that you update to the new version, while making sure the notebook metadata is properly updated as well. The safest way to make sure nothing gets messed up is to start from scratch on a clean updated version of the notebook, copy/pasting your code from the cells of the previous version into the cells of the new version.\n",
    "8. If you need to have multiple parallel versions of this notebook, make sure not to move them to another directory.\n",
    "9. Although not forced to work exclusively in the course `conda` environment, you need to make sure that the notebook will run in that environment, i.e. that you have not added any additional dependencies.\n",
    "\n",
    "**FOR HA1, HA2, HA3 ONLY:** Failing to meet any of these requirements might lead to either a subtraction of POEs (at best) or a request for resubmission (at worst).\n",
    "\n",
    "We advise you to perform the following steps before submission to ensure that requirements 1, 2, and 3 are always met: **Restart the kernel** (in the menubar, select Kernel$\\rightarrow$Restart) and then **run all cells** (in the menubar, select Cell$\\rightarrow$Run All). This might require a bit of time, so plan ahead for this (and possibly use Google Cloud's GPU in HA1 and HA2 for this step). Finally press the \"Save and Checkout\" button before handing in, to make sure that all your changes are saved to this .ipynb file."
   ]
  },
  {
   "cell_type": "markdown",
   "metadata": {
    "deletable": false,
    "editable": false,
    "nbgrader": {
     "cell_type": "markdown",
     "checksum": "a6bb874a16c1ff767ac0f37ce0491265",
     "grade": false,
     "grade_id": "cell-774c93bf6433de68",
     "locked": true,
     "schema_version": 3,
     "solution": false,
     "task": false
    }
   },
   "source": [
    "### Fill in name of notebook file\n",
    "This might seem silly, but the version check below needs to know the filename of the current notebook, which is not trivial to find out programmatically.\n",
    "\n",
    "You might want to have several parallel versions of the notebook, and it is fine to rename the notebook as long as it stays in the same directory. **However**, if you do rename it, you also need to update its own filename below:"
   ]
  },
  {
   "cell_type": "code",
   "execution_count": 1,
   "metadata": {},
   "outputs": [],
   "source": [
    "nb_fname = \"HA2-Part1_EllaGuiladi_EmmaRydholm.ipynb\""
   ]
  },
  {
   "cell_type": "markdown",
   "metadata": {
    "deletable": false,
    "editable": false,
    "nbgrader": {
     "cell_type": "markdown",
     "checksum": "879883c2ea755808ffd00aeee5c77a00",
     "grade": false,
     "grade_id": "cell-5676bcf768a7f9be",
     "locked": true,
     "schema_version": 3,
     "solution": false,
     "task": false
    }
   },
   "source": [
    "### Fill in group number and member names (use NAME2 and GROUP only for HA1, HA2 and HA3):"
   ]
  },
  {
   "cell_type": "code",
   "execution_count": 2,
   "metadata": {},
   "outputs": [],
   "source": [
    "NAME1 = \"Ella Guiladi\" \n",
    "NAME2 = \"Emma Rydholm\"\n",
    "GROUP = \"7\""
   ]
  },
  {
   "cell_type": "markdown",
   "metadata": {
    "deletable": false,
    "editable": false,
    "nbgrader": {
     "cell_type": "markdown",
     "checksum": "42f960a95815e1aa3ce8132fcec59cd9",
     "grade": false,
     "grade_id": "cell-a15fe781533d9590",
     "locked": true,
     "schema_version": 3,
     "solution": false,
     "task": false
    }
   },
   "source": [
    "### Check Python version"
   ]
  },
  {
   "cell_type": "code",
   "execution_count": 3,
   "metadata": {
    "deletable": false,
    "editable": false,
    "nbgrader": {
     "cell_type": "code",
     "checksum": "4a5517d7993b4b35049f0013dd6a3f55",
     "grade": false,
     "grade_id": "cell-2b9c2390ee464c39",
     "locked": true,
     "schema_version": 3,
     "solution": false,
     "task": false
    }
   },
   "outputs": [],
   "source": [
    "from platform import python_version_tuple\n",
    "assert python_version_tuple()[:2] == ('3','7'), \"You are not running Python 3.7. Make sure to run Python through the course Conda environment.\""
   ]
  },
  {
   "cell_type": "markdown",
   "metadata": {
    "deletable": false,
    "editable": false,
    "nbgrader": {
     "cell_type": "markdown",
     "checksum": "15ec4309f1e85f6e17bda73b9b6f48a2",
     "grade": false,
     "grade_id": "cell-4869b45600ce82f8",
     "locked": true,
     "schema_version": 3,
     "solution": false,
     "task": false
    }
   },
   "source": [
    "### Check that notebook server has access to all required resources, and that notebook has not moved"
   ]
  },
  {
   "cell_type": "code",
   "execution_count": 4,
   "metadata": {
    "deletable": false,
    "editable": false,
    "nbgrader": {
     "cell_type": "code",
     "checksum": "a2d199303c73ec86d25177caf39e385f",
     "grade": false,
     "grade_id": "cell-122ac3d9100b8afb",
     "locked": true,
     "schema_version": 3,
     "solution": false,
     "task": false
    }
   },
   "outputs": [],
   "source": [
    "import os\n",
    "nb_dirname = os.path.abspath('')\n",
    "assignment_name = os.path.basename(nb_dirname)\n",
    "assert assignment_name in ['IHA1', 'IHA2', 'HA1', 'HA2', 'HA3'], \\\n",
    "    '[ERROR] The notebook appears to have been moved from its original directory'"
   ]
  },
  {
   "cell_type": "markdown",
   "metadata": {
    "deletable": false,
    "editable": false,
    "nbgrader": {
     "cell_type": "markdown",
     "checksum": "f09f40b5350db83232189137c550f0a1",
     "grade": false,
     "grade_id": "cell-2455deee513cd39c",
     "locked": true,
     "schema_version": 3,
     "solution": false,
     "task": false
    }
   },
   "source": [
    "### Verify correct nb_fname"
   ]
  },
  {
   "cell_type": "code",
   "execution_count": 5,
   "metadata": {
    "deletable": false,
    "editable": false,
    "nbgrader": {
     "cell_type": "code",
     "checksum": "a78c7227b049bb147e6c363affb6dae8",
     "grade": false,
     "grade_id": "cell-0472e2fd710f1d72",
     "locked": true,
     "schema_version": 3,
     "solution": false,
     "task": false
    }
   },
   "outputs": [
    {
     "data": {
      "text/html": [
       "<script>if(\"HA2-Part1_EllaGuiladi_EmmaRydholm.ipynb\" != IPython.notebook.notebook_name) { alert(\"You have filled in nb_fname = \\\"HA2-Part1_EllaGuiladi_EmmaRydholm.ipynb\\\", but this does not seem to match the notebook filename \\\"\" + IPython.notebook.notebook_name + \"\\\".\"); }</script>"
      ],
      "text/plain": [
       "<IPython.core.display.HTML object>"
      ]
     },
     "metadata": {},
     "output_type": "display_data"
    }
   ],
   "source": [
    "from IPython.display import display, HTML\n",
    "try:\n",
    "    display(HTML(r'<script>if(\"{nb_fname}\" != IPython.notebook.notebook_name) {{ alert(\"You have filled in nb_fname = \\\"{nb_fname}\\\", but this does not seem to match the notebook filename \\\"\" + IPython.notebook.notebook_name + \"\\\".\"); }}</script>'.format(nb_fname=nb_fname)))\n",
    "except NameError:\n",
    "    assert False, 'Make sure to fill in the nb_fname variable above!'"
   ]
  },
  {
   "cell_type": "markdown",
   "metadata": {
    "deletable": false,
    "editable": false,
    "nbgrader": {
     "cell_type": "markdown",
     "checksum": "98d88d8e8da19693053764f29dcc591d",
     "grade": false,
     "grade_id": "cell-ceacb1adcae4783d",
     "locked": true,
     "schema_version": 3,
     "solution": false,
     "task": false
    }
   },
   "source": [
    "### Verify that your notebook is up-to-date and not corrupted in any way"
   ]
  },
  {
   "cell_type": "code",
   "execution_count": 6,
   "metadata": {
    "deletable": false,
    "editable": false,
    "nbgrader": {
     "cell_type": "code",
     "checksum": "bb700528d4644601c1a8c91ef1d84635",
     "grade": false,
     "grade_id": "cell-f5a59288e11b4aec",
     "locked": true,
     "schema_version": 3,
     "solution": false,
     "task": false
    }
   },
   "outputs": [
    {
     "name": "stdout",
     "output_type": "stream",
     "text": [
      "Matching current notebook against the following URL:\n",
      "http://raw.githubusercontent.com/JulianoLagana/deep-machine-learning/master/home-assignments/HA2/HA2-Part1.ipynb\n",
      "[SUCCESS] No major notebook mismatch found when comparing to latest GitHub version. (There might be minor updates, but even that is the case, submitting your work based on this notebook version would be acceptable.)\n"
     ]
    }
   ],
   "source": [
    "import sys\n",
    "sys.path.append('..')\n",
    "from ha_utils import check_notebook_uptodate_and_not_corrupted\n",
    "check_notebook_uptodate_and_not_corrupted(nb_dirname, nb_fname)"
   ]
  },
  {
   "cell_type": "markdown",
   "metadata": {
    "deletable": false,
    "editable": false,
    "nbgrader": {
     "cell_type": "markdown",
     "checksum": "1a3d4c3586543ada9e989a70ca0b714f",
     "grade": false,
     "grade_id": "cell-64e1db7b9018bb3c",
     "locked": true,
     "schema_version": 3,
     "solution": false
    }
   },
   "source": [
    "# HA2 - Recurrent Neural Networks"
   ]
  },
  {
   "cell_type": "markdown",
   "metadata": {
    "deletable": false,
    "editable": false,
    "nbgrader": {
     "cell_type": "markdown",
     "checksum": "5a39003439bd02a0cc13a87a7916a36f",
     "grade": false,
     "grade_id": "cell-2a56acd8b54adbc7",
     "locked": true,
     "schema_version": 3,
     "solution": false
    }
   },
   "source": [
    "This assignment is divided into two parts. In the first one, you will implement a vanilla RNN module from scratch using PyTorch to perform the task of predicting the nationality of a given name. In the second, you will use one of PyTorch's efficient implementations of recurrent networks to perform machine translation."
   ]
  },
  {
   "cell_type": "markdown",
   "metadata": {
    "deletable": false,
    "editable": false,
    "nbgrader": {
     "cell_type": "markdown",
     "checksum": "b230b916db79763c4ae31f10fb3834ed",
     "grade": false,
     "grade_id": "cell-a7a1fe5598d08eae",
     "locked": true,
     "schema_version": 3,
     "solution": false
    }
   },
   "source": [
    "## Task 1 - Predicting Nationalities"
   ]
  },
  {
   "cell_type": "markdown",
   "metadata": {
    "deletable": false,
    "editable": false,
    "nbgrader": {
     "cell_type": "markdown",
     "checksum": "f6d2792c8867f0fd983839444067a2e1",
     "grade": false,
     "grade_id": "cell-aad0c935c03346c9",
     "locked": true,
     "schema_version": 3,
     "solution": false
    }
   },
   "source": [
    "In this task, you will create an RNN module using PyTorch, and train it to predict the nationality of a given input name. Your RNN will process each character of an input name at a time, and at the last character output a probability mass function over the possible countries.\n",
    "\n",
    "The data for this task is present in the file `data/nam_dict.txt`. After parsing it we will have around 44k names from 41 different countries."
   ]
  },
  {
   "cell_type": "markdown",
   "metadata": {
    "deletable": false,
    "editable": false,
    "nbgrader": {
     "cell_type": "markdown",
     "checksum": "88e94a32152c5c6447c42352b00c56f6",
     "grade": false,
     "grade_id": "cell-781c35fef278ad47",
     "locked": true,
     "schema_version": 3,
     "solution": false
    }
   },
   "source": [
    "### 1.1 Loading the data"
   ]
  },
  {
   "cell_type": "markdown",
   "metadata": {
    "deletable": false,
    "editable": false,
    "nbgrader": {
     "cell_type": "markdown",
     "checksum": "ef4e3f8191d07d16c7129210867e1cc4",
     "grade": false,
     "grade_id": "cell-12c085211bc03428",
     "locked": true,
     "schema_version": 3,
     "solution": false
    }
   },
   "source": [
    "We'll start by loading the data from the `nam_dict.txt` file, using the provided method `get_data_from_file`."
   ]
  },
  {
   "cell_type": "code",
   "execution_count": 7,
   "metadata": {
    "deletable": false,
    "editable": false,
    "nbgrader": {
     "cell_type": "code",
     "checksum": "578b8dc7fef786bb9d0eb9bfd9804796",
     "grade": false,
     "grade_id": "cell-7c9a70be36d77bde",
     "locked": true,
     "schema_version": 3,
     "solution": false
    }
   },
   "outputs": [],
   "source": [
    "from utils.load_names import get_data_from_file\n",
    "names_dict = get_data_from_file('data/nam_dict.txt')"
   ]
  },
  {
   "cell_type": "markdown",
   "metadata": {
    "deletable": false,
    "editable": false,
    "nbgrader": {
     "cell_type": "markdown",
     "checksum": "e4396ec5026f36d2d897eb28273fa47c",
     "grade": false,
     "grade_id": "cell-3d6450ecfff464cf",
     "locked": true,
     "schema_version": 3,
     "solution": false
    }
   },
   "source": [
    "The newly-created variable `names_dict` is a dictionary where each country is a key, and the value is the corresponding list of names from that country."
   ]
  },
  {
   "cell_type": "code",
   "execution_count": 8,
   "metadata": {
    "deletable": false,
    "editable": false,
    "nbgrader": {
     "cell_type": "code",
     "checksum": "0a3c16d045a6e3ea16cae84c8f4039b8",
     "grade": false,
     "grade_id": "cell-2979a922e5fd9032",
     "locked": true,
     "schema_version": 3,
     "solution": false
    }
   },
   "outputs": [
    {
     "data": {
      "text/plain": [
       "dict_keys(['Great Britain', 'Ireland', 'U.S.A.', 'Italy', 'Portugal', 'Spain', 'France', 'the Netherlands', 'East Frisia', 'Germany', 'Swiss', 'Iceland', 'Denmark', 'Norway', 'Sweden', 'Finland', 'Estonia', 'Latvia', 'Lithuania', 'Hungary', 'Romania', 'Bulgaria', 'Bosnia and Herzegovina', 'Croatia', 'Kosovo', 'Serbia', 'Albania', 'Greece', 'Russia', 'Ukraine', 'Armenia', 'Azerbaijan', 'Kazakhstan/Uzbekistan,etc.', 'Turkey', 'Arabia/Persia', 'Israel', 'China', 'India/Sri Lanka', 'Japan', 'Korea', 'Vietnam'])"
      ]
     },
     "execution_count": 8,
     "metadata": {},
     "output_type": "execute_result"
    }
   ],
   "source": [
    "names_dict.keys()"
   ]
  },
  {
   "cell_type": "code",
   "execution_count": 9,
   "metadata": {
    "deletable": false,
    "editable": false,
    "nbgrader": {
     "cell_type": "code",
     "checksum": "fabffeb8a60ded472b3ab0996e6acd34",
     "grade": false,
     "grade_id": "cell-b9578aa61d75938e",
     "locked": true,
     "schema_version": 3,
     "solution": false
    }
   },
   "outputs": [
    {
     "data": {
      "text/plain": [
       "['Achilleas',\n",
       " 'Achillefs',\n",
       " 'Adamantia',\n",
       " 'Adamantini',\n",
       " 'Adamantios',\n",
       " 'Aeneas',\n",
       " 'Afroditi',\n",
       " 'Agapi',\n",
       " 'Agapios',\n",
       " 'Agathi']"
      ]
     },
     "execution_count": 9,
     "metadata": {},
     "output_type": "execute_result"
    }
   ],
   "source": [
    "names_dict['Greece'][:10]"
   ]
  },
  {
   "cell_type": "markdown",
   "metadata": {
    "deletable": false,
    "editable": false,
    "nbgrader": {
     "cell_type": "markdown",
     "checksum": "298f96dbddf1b6528aba07514a1442de",
     "grade": false,
     "grade_id": "cell-172dd5d6a5c41971",
     "locked": true,
     "schema_version": 3,
     "solution": false
    }
   },
   "source": [
    "Let's look at the dataset in more detail. Plot the number of names in each country using a [bar plot](https://matplotlib.org/3.1.1/api/_as_gen/matplotlib.pyplot.bar.html).\n",
    "\n",
    "*Hints*:\n",
    "\n",
    "- You can put labels in the x-axis using the method [`xticks`](https://matplotlib.org/3.1.1/api/_as_gen/matplotlib.pyplot.xticks.html).\n",
    "- The `xticks` method accepts a keyword argument named `rotation`."
   ]
  },
  {
   "cell_type": "code",
   "execution_count": 10,
   "metadata": {
    "deletable": false,
    "nbgrader": {
     "cell_type": "code",
     "checksum": "239562267cb4dc6cbc5bdd6e1fa817be",
     "grade": true,
     "grade_id": "cell-ff582e8e844bfb50",
     "locked": false,
     "points": 0,
     "schema_version": 3,
     "solution": true
    }
   },
   "outputs": [
    {
     "data": {
      "image/png": "[encoded data removed]",
      "text/plain": [
       "<Figure size 432x288 with 1 Axes>"
      ]
     },
     "metadata": {
      "needs_background": "light"
     },
     "output_type": "display_data"
    }
   ],
   "source": [
    "%matplotlib inline\n",
    "import matplotlib.pyplot as plt\n",
    "import numpy as np\n",
    "import pandas as pd\n",
    "\n",
    "keys = names_dict.keys()\n",
    "\n",
    "for i in keys:\n",
    "    plt.bar(i,len(names_dict[i]))\n",
    "    plt.xticks(np.arange(0, 41),rotation=90)\n"
   ]
  },
  {
   "cell_type": "markdown",
   "metadata": {
    "deletable": false,
    "editable": false,
    "nbgrader": {
     "cell_type": "markdown",
     "checksum": "e3f020d7988081d75ac09b50eebb91f3",
     "grade": false,
     "grade_id": "cell-390475b6777ce344",
     "locked": true,
     "schema_version": 3,
     "solution": false
    }
   },
   "source": [
    "Is this dataset balanced? If not, which are the top-3 countries with most names?"
   ]
  },
  {
   "cell_type": "markdown",
   "metadata": {
    "deletable": false,
    "nbgrader": {
     "cell_type": "markdown",
     "checksum": "94306b4cb0e033dcaf119982200607ad",
     "grade": true,
     "grade_id": "cell-e70912fa2bf69d84",
     "locked": false,
     "points": 0,
     "schema_version": 3,
     "solution": true
    }
   },
   "source": [
    "**Your answer:** \n",
    "The dataset is not balanced, since some of the countries are over represented. Based on the histogram, China, USA and Italy has the most names (in descending order)."
   ]
  },
  {
   "cell_type": "markdown",
   "metadata": {
    "deletable": false,
    "editable": false,
    "nbgrader": {
     "cell_type": "markdown",
     "checksum": "1db6be82caa3a09c812b3158187adcf8",
     "grade": false,
     "grade_id": "cell-b332445688db5846",
     "locked": true,
     "schema_version": 3,
     "solution": false
    }
   },
   "source": [
    "### 1.2 Pre-processing"
   ]
  },
  {
   "cell_type": "markdown",
   "metadata": {
    "deletable": false,
    "editable": false,
    "nbgrader": {
     "cell_type": "markdown",
     "checksum": "8e9d2c3be16a91407c9403684b28ddfe",
     "grade": false,
     "grade_id": "cell-0248575eadc7e93e",
     "locked": true,
     "schema_version": 3,
     "solution": false
    }
   },
   "source": [
    "We will train an RNN which takes as input one character at each time-step. In order to do so, we will encode every character in the input names into a one-hot representation that is more suited to be fed to neural networks. \n",
    "\n",
    "The first thing we need to do is to decide the size of the alphabet used for the one-hot encoding. To do so, let's take a look at all the characters used in the dataset. A simple way to do so is putting all names in the same string and then using a `set` to get the unique values. We'll treat upper-case and lower-case characters as being the same."
   ]
  },
  {
   "cell_type": "code",
   "execution_count": 11,
   "metadata": {
    "deletable": false,
    "editable": false,
    "nbgrader": {
     "cell_type": "code",
     "checksum": "94cec9e9df68c821353d453cafaa5f8b",
     "grade": false,
     "grade_id": "cell-6b58e326e17e53f5",
     "locked": true,
     "schema_version": 3,
     "solution": false
    }
   },
   "outputs": [
    {
     "data": {
      "text/plain": [
       "[' ',\n",
       " \"'\",\n",
       " '-',\n",
       " 'a',\n",
       " 'b',\n",
       " 'c',\n",
       " 'd',\n",
       " 'e',\n",
       " 'f',\n",
       " 'g',\n",
       " 'h',\n",
       " 'i',\n",
       " 'j',\n",
       " 'k',\n",
       " 'l',\n",
       " 'm',\n",
       " 'n',\n",
       " 'o',\n",
       " 'p',\n",
       " 'q',\n",
       " 'r',\n",
       " 's',\n",
       " 't',\n",
       " 'u',\n",
       " 'v',\n",
       " 'w',\n",
       " 'x',\n",
       " 'y',\n",
       " 'z',\n",
       " 'ß',\n",
       " 'à',\n",
       " 'á',\n",
       " 'â',\n",
       " 'ã',\n",
       " 'ä',\n",
       " 'å',\n",
       " 'æ',\n",
       " 'ç',\n",
       " 'è',\n",
       " 'é',\n",
       " 'ê',\n",
       " 'ë',\n",
       " 'í',\n",
       " 'î',\n",
       " 'ï',\n",
       " 'ð',\n",
       " 'ñ',\n",
       " 'ò',\n",
       " 'ó',\n",
       " 'ô',\n",
       " 'õ',\n",
       " 'ö',\n",
       " 'ø',\n",
       " 'ú',\n",
       " 'ü',\n",
       " 'ý',\n",
       " 'þ']"
      ]
     },
     "execution_count": 11,
     "metadata": {},
     "output_type": "execute_result"
    }
   ],
   "source": [
    "temp = \"\"\n",
    "for name_list in names_dict.values():\n",
    "    for name in name_list:\n",
    "        temp += name.lower()\n",
    "charset = sorted(set(temp))\n",
    "charset"
   ]
  },
  {
   "cell_type": "markdown",
   "metadata": {
    "deletable": false,
    "editable": false,
    "nbgrader": {
     "cell_type": "markdown",
     "checksum": "aa26ef5d12faceb8d330856b41769a40",
     "grade": false,
     "grade_id": "cell-c28ba53b5126e2f5",
     "locked": true,
     "schema_version": 3,
     "solution": false
    }
   },
   "source": [
    "Now we can create a function that takes as input a name, and outputs a `(name length) x (charset length)` tensor."
   ]
  },
  {
   "cell_type": "code",
   "execution_count": 12,
   "metadata": {
    "deletable": false,
    "editable": false,
    "nbgrader": {
     "cell_type": "code",
     "checksum": "14585ce3bdfe1f68870f92fa78e537ad",
     "grade": false,
     "grade_id": "cell-e078bcfbef92ef2d",
     "locked": true,
     "schema_version": 3,
     "solution": false
    }
   },
   "outputs": [],
   "source": [
    "import torch"
   ]
  },
  {
   "cell_type": "code",
   "execution_count": 13,
   "metadata": {
    "deletable": false,
    "editable": false,
    "nbgrader": {
     "cell_type": "code",
     "checksum": "1f3a2f737754dd7e7735d97ab0a7b1a8",
     "grade": false,
     "grade_id": "cell-28b1f4faf5fe75a3",
     "locked": true,
     "schema_version": 3,
     "solution": false
    }
   },
   "outputs": [],
   "source": [
    "def name2tensor(name):\n",
    "    name = name.lower()\n",
    "    \n",
    "    # Create tensor of correct size filled with zeros\n",
    "    tensor = torch.zeros(len(name), len(charset))\n",
    "    \n",
    "    # For each letter, fill in the tensor with a 1 in the position corresponding to the character index in the charset\n",
    "    for i, letter in enumerate(name):\n",
    "        char_index = charset.index(letter)\n",
    "        tensor[i][char_index] = 1\n",
    "        \n",
    "    return tensor"
   ]
  },
  {
   "cell_type": "code",
   "execution_count": 14,
   "metadata": {
    "deletable": false,
    "editable": false,
    "nbgrader": {
     "cell_type": "code",
     "checksum": "8a9bbbdc34b5d27a2f3187bda44fa59f",
     "grade": false,
     "grade_id": "cell-5d8cbbfaa7917f2c",
     "locked": true,
     "schema_version": 3,
     "solution": false
    }
   },
   "outputs": [
    {
     "data": {
      "text/plain": [
       "tensor([[0., 0., 0., 1., 0., 0., 0., 0., 0., 0., 0., 0., 0., 0., 0., 0., 0., 0.,\n",
       "         0., 0., 0., 0., 0., 0., 0., 0., 0., 0., 0., 0., 0., 0., 0., 0., 0., 0.,\n",
       "         0., 0., 0., 0., 0., 0., 0., 0., 0., 0., 0., 0., 0., 0., 0., 0., 0., 0.,\n",
       "         0., 0., 0.],\n",
       "        [0., 0., 0., 0., 0., 0., 0., 0., 0., 0., 0., 0., 0., 0., 1., 0., 0., 0.,\n",
       "         0., 0., 0., 0., 0., 0., 0., 0., 0., 0., 0., 0., 0., 0., 0., 0., 0., 0.,\n",
       "         0., 0., 0., 0., 0., 0., 0., 0., 0., 0., 0., 0., 0., 0., 0., 0., 0., 0.,\n",
       "         0., 0., 0.],\n",
       "        [0., 0., 0., 0., 0., 0., 0., 0., 0., 0., 0., 1., 0., 0., 0., 0., 0., 0.,\n",
       "         0., 0., 0., 0., 0., 0., 0., 0., 0., 0., 0., 0., 0., 0., 0., 0., 0., 0.,\n",
       "         0., 0., 0., 0., 0., 0., 0., 0., 0., 0., 0., 0., 0., 0., 0., 0., 0., 0.,\n",
       "         0., 0., 0.]])"
      ]
     },
     "execution_count": 14,
     "metadata": {},
     "output_type": "execute_result"
    }
   ],
   "source": [
    "name2tensor('Ali')"
   ]
  },
  {
   "cell_type": "markdown",
   "metadata": {
    "deletable": false,
    "editable": false,
    "nbgrader": {
     "cell_type": "markdown",
     "checksum": "20d3d8b2de876fd7d1160298362838a2",
     "grade": false,
     "grade_id": "cell-21a59eb745d70bfd",
     "locked": true,
     "schema_version": 3,
     "solution": false,
     "task": false
    }
   },
   "source": [
    "Why does the above output tensor contain a 1 at position (0,3)?"
   ]
  },
  {
   "cell_type": "markdown",
   "metadata": {
    "deletable": false,
    "nbgrader": {
     "cell_type": "markdown",
     "checksum": "49c4292927f944a5edca1db964fcd7f3",
     "grade": true,
     "grade_id": "cell-39860df3e01f0204",
     "locked": false,
     "points": 0,
     "schema_version": 3,
     "solution": true,
     "task": false
    }
   },
   "source": [
    "**Your answer:** \n",
    "This is because this position represents \"A\", as is the first letter in the name \"Ali\". The reason why A is not on the first position is that there are some signs that, gets sorted before \"A\"."
   ]
  },
  {
   "cell_type": "markdown",
   "metadata": {
    "deletable": false,
    "editable": false,
    "nbgrader": {
     "cell_type": "markdown",
     "checksum": "c30bca60979c477df51fc0312000ec91",
     "grade": false,
     "grade_id": "cell-5beb6efb1f504ce2",
     "locked": true,
     "schema_version": 3,
     "solution": false
    }
   },
   "source": [
    "**(0.5 POE)**\n",
    "What happens if you try encoding the string `Lol@` using this function? Why?"
   ]
  },
  {
   "cell_type": "markdown",
   "metadata": {
    "deletable": false,
    "nbgrader": {
     "cell_type": "markdown",
     "checksum": "98035c11450ee7e36e86ef5f2c11b0f2",
     "grade": true,
     "grade_id": "cell-613a1d700434e11a",
     "locked": false,
     "points": 0.5,
     "schema_version": 3,
     "solution": true
    }
   },
   "source": [
    "**Your answer:** \n",
    "\n",
    "\"@\" is not a part of the characthers recognized in the preprocessing step. If trying to encode this characther, it will be represented by a vector with zeros on all positions."
   ]
  },
  {
   "cell_type": "markdown",
   "metadata": {
    "deletable": false,
    "editable": false,
    "nbgrader": {
     "cell_type": "markdown",
     "checksum": "ef09d5be7d022f669a1580dc75732134",
     "grade": false,
     "grade_id": "cell-fdfe2093caad0c9d",
     "locked": true,
     "schema_version": 3,
     "solution": false
    }
   },
   "source": [
    "It's definitely possible to use the tensors created with `name2tensor` to train our RNN, but in that case we would only be able to conveniently perform forward-propagation using one sample at a time.\n",
    "\n",
    "Instead, we want to batch samples together and parallelize the forward-propagation step. To do so, all samples must have the same dimensions (right now every sample has dimension `(name length) x (charset length)`, and the length of the names varies). Modify the function `name2padded_tensor` to achieve this by padding the start of the tensor with zeros, so that the output tensor always has length `target_len x (charset length)`.\n",
    "\n",
    "*Hint*:\n",
    "\n",
    "- To make it easier to catch bugs in the next parts of the assignment, make sure to raise an exception if the `target_len` is smaller than the length of the input word."
   ]
  },
  {
   "cell_type": "code",
   "execution_count": 15,
   "metadata": {
    "deletable": false,
    "nbgrader": {
     "cell_type": "code",
     "checksum": "00bfec2441b0ed4cce214efbd27292cb",
     "grade": true,
     "grade_id": "cell-fbe880f01de97439",
     "locked": false,
     "points": 0,
     "schema_version": 3,
     "solution": true
    }
   },
   "outputs": [],
   "source": [
    "def name2padded_tensor(name, target_len):\n",
    "\n",
    "    tensor_old = name2tensor(name)\n",
    "        \n",
    "    zero_tensor=torch.zeros((target_len-len(name)),(len(charset)))\n",
    "\n",
    "    tensor=torch.cat((zero_tensor, tensor_old), 0)\n",
    "        \n",
    "    if target_len < len(name):\n",
    "        raise Exception(\"Target_len is smaller than the length of the input word.\")\n",
    "\n",
    "    return tensor"
   ]
  },
  {
   "cell_type": "code",
   "execution_count": 16,
   "metadata": {
    "deletable": false,
    "editable": false,
    "nbgrader": {
     "cell_type": "code",
     "checksum": "5de1745a961b0184d422af8c705cf392",
     "grade": false,
     "grade_id": "cell-22bb8ede1d7a7da2",
     "locked": true,
     "schema_version": 3,
     "solution": false
    }
   },
   "outputs": [
    {
     "name": "stdout",
     "output_type": "stream",
     "text": [
      "Test passed.\n"
     ]
    }
   ],
   "source": [
    "def test_name2padded_tensor():\n",
    "    test_case(case_id=\"1\", name=\"Ali\", target_len=5)\n",
    "    test_case(case_id=\"2\", name=\"Ali Baba\", target_len=10)\n",
    "    print(\"Test passed.\")\n",
    "    \n",
    "    \n",
    "def test_case(case_id, name, target_len):\n",
    "    padded_tensor = name2padded_tensor(\"Ali\", target_len)\n",
    "    new_target_len, new_charset_len = padded_tensor.shape\n",
    "    err_string = \"Case {} failed: {}\"\n",
    "    \n",
    "    assert new_target_len == target_len, err_string.format(case_id,\n",
    "        \"`target_len` not preserved, expected: {}, got: {}\".format(target_len, new_target_len))\n",
    "    \n",
    "    assert new_charset_len == 57, err_string.format(\n",
    "        \"`charset_len` not preserved, expected: 57, got: {}\".format(new_charset_len))\n",
    "    \n",
    "    assert padded_tensor[:2, :].sum() == 0, err_string.format(\n",
    "        \"The first two rows of the tensor should be all zeros.\")\n",
    "    \n",
    "    assert (padded_tensor.sum(1) <= torch.ones((target_len, 1))).all(), err_string.format(\n",
    "        \"Every row in the tensor should sum to at most 1.\")\n",
    "    \n",
    "    assert padded_tensor.sum() <= len(name), err_string.format(\n",
    "        \"The sum of all elements (i.e. the number of ones) should equal the number of characters in the name.\")\n",
    "    \n",
    "test_name2padded_tensor()"
   ]
  },
  {
   "cell_type": "markdown",
   "metadata": {
    "deletable": false,
    "editable": false,
    "nbgrader": {
     "cell_type": "markdown",
     "checksum": "867b73c2ba68fcc9c1798c49969dac8c",
     "grade": false,
     "grade_id": "cell-c9657b653aeb1c93",
     "locked": true,
     "schema_version": 3,
     "solution": false
    }
   },
   "source": [
    "What should be the target length for our case in this dataset? Compute it (i.e. don't hardcode it) in the cell below and save it in a variable named `target_len`, which will be used from here on."
   ]
  },
  {
   "cell_type": "code",
   "execution_count": 17,
   "metadata": {
    "deletable": false,
    "nbgrader": {
     "cell_type": "code",
     "checksum": "648616943150dba84fbf4c675deb0421",
     "grade": true,
     "grade_id": "cell-ceb412223ee3e6dd",
     "locked": false,
     "points": 0,
     "schema_version": 3,
     "solution": true
    }
   },
   "outputs": [],
   "source": [
    "#take the length of the longest key in the dict\n",
    "target_len=max(len(keys) for keys in names_dict)\n"
   ]
  },
  {
   "cell_type": "markdown",
   "metadata": {
    "deletable": false,
    "editable": false,
    "nbgrader": {
     "cell_type": "markdown",
     "checksum": "901b6c3ed25c85d2cec741ad2e575ade",
     "grade": false,
     "grade_id": "cell-0bd908b10b33e7e2",
     "locked": true,
     "schema_version": 3,
     "solution": false
    }
   },
   "source": [
    "Now we can go through the entire dataset, encode each of the names, and save all of it in a tensor. We'll do the same with the ground-truth labels for the countries of each name."
   ]
  },
  {
   "cell_type": "code",
   "execution_count": 18,
   "metadata": {
    "deletable": false,
    "editable": false,
    "nbgrader": {
     "cell_type": "code",
     "checksum": "2b0c5193152b51305c0a1aef0900f7c9",
     "grade": false,
     "grade_id": "cell-c41ca1beab4900d1",
     "locked": true,
     "schema_version": 3,
     "solution": false
    }
   },
   "outputs": [],
   "source": [
    "# Create the tensors that will hold the names and labels \n",
    "# (note that the first dimension has 0 elements, this is a way to initialize an empty tensor for concatenating later)\n",
    "xs = torch.zeros(0, target_len, len(charset))\n",
    "ys = torch.zeros(0, dtype=torch.long)\n",
    "\n",
    "for i, country in enumerate(names_dict.keys()):\n",
    "    \n",
    "    # Apply the name2padded_tensor function to each name in this country\n",
    "    temp = map(\n",
    "        lambda n: name2padded_tensor(n, target_len), \n",
    "        names_dict[country])\n",
    "    \n",
    "    # Add a new dimension to the resulting tensors\n",
    "    temp = [name_tensor[None, :, :] for name_tensor in temp]\n",
    "    \n",
    "    # Concatenate all of them along this new dimension\n",
    "    names_tensor = torch.cat(temp, dim=0)\n",
    "    \n",
    "    # Add these tensors to `xs`\n",
    "    # Note that we have 44504 data pairs (x,y) where a single input x has the shape (target_len, 57),\n",
    "    # where 57 is the length of the one-hot-encoded vectors.\n",
    "    xs = torch.cat([xs, names_tensor], dim=0)\n",
    "    \n",
    "    # Create tensor filled with i`s and add that to the ground-truth tensor\n",
    "    ys_for_this_country = torch.zeros(names_tensor.shape[0], dtype=torch.long) + i\n",
    "    ys = torch.cat([ys, ys_for_this_country])    "
   ]
  },
  {
   "cell_type": "code",
   "execution_count": 19,
   "metadata": {
    "deletable": false,
    "editable": false,
    "nbgrader": {
     "cell_type": "code",
     "checksum": "59844c38d7efe88476c8c7299e4e0eb4",
     "grade": false,
     "grade_id": "cell-52dbbea6ddcef37d",
     "locked": true,
     "schema_version": 3,
     "solution": false
    }
   },
   "outputs": [
    {
     "data": {
      "text/plain": [
       "torch.Size([44504, 26, 57])"
      ]
     },
     "execution_count": 19,
     "metadata": {},
     "output_type": "execute_result"
    }
   ],
   "source": [
    "xs.shape"
   ]
  },
  {
   "cell_type": "code",
   "execution_count": 20,
   "metadata": {
    "deletable": false,
    "editable": false,
    "nbgrader": {
     "cell_type": "code",
     "checksum": "84f30aec4ebb491a7b47bc37f3c4428d",
     "grade": false,
     "grade_id": "cell-7e884148f06eed5d",
     "locked": true,
     "schema_version": 3,
     "solution": false
    }
   },
   "outputs": [
    {
     "data": {
      "text/plain": [
       "torch.Size([44504])"
      ]
     },
     "execution_count": 20,
     "metadata": {},
     "output_type": "execute_result"
    }
   ],
   "source": [
    "ys.shape"
   ]
  },
  {
   "cell_type": "markdown",
   "metadata": {
    "deletable": false,
    "editable": false,
    "nbgrader": {
     "cell_type": "markdown",
     "checksum": "d0ad8b82a67e3dae17a9dcf05d4886e3",
     "grade": false,
     "grade_id": "cell-0aa1483447535d5e",
     "locked": true,
     "schema_version": 3,
     "solution": false
    }
   },
   "source": [
    "Now we can create a dataset with these tensors."
   ]
  },
  {
   "cell_type": "code",
   "execution_count": 21,
   "metadata": {
    "deletable": false,
    "editable": false,
    "nbgrader": {
     "cell_type": "code",
     "checksum": "bfe3df0f9d0e144e99d070814a493a6f",
     "grade": false,
     "grade_id": "cell-6b352207c061f029",
     "locked": true,
     "schema_version": 3,
     "solution": false
    }
   },
   "outputs": [],
   "source": [
    "from torch.utils.data import TensorDataset\n",
    "\n",
    "device = torch.device(\"cuda\" if torch.cuda.is_available() else \"cpu\")\n",
    "dataset = TensorDataset(xs.to(device), ys.to(device))"
   ]
  },
  {
   "cell_type": "markdown",
   "metadata": {
    "deletable": false,
    "editable": false,
    "nbgrader": {
     "cell_type": "markdown",
     "checksum": "86cdcef7c72b84485a13de4cf47e3dde",
     "grade": false,
     "grade_id": "cell-c20e8ae6ac70f92f",
     "locked": true,
     "schema_version": 3,
     "solution": false
    }
   },
   "source": [
    "And split it in training, validation, and test sets."
   ]
  },
  {
   "cell_type": "code",
   "execution_count": 22,
   "metadata": {
    "deletable": false,
    "editable": false,
    "nbgrader": {
     "cell_type": "code",
     "checksum": "db198d7a02c0fae8959ccb3ebcbb62f8",
     "grade": false,
     "grade_id": "cell-57448454a3d5dc19",
     "locked": true,
     "schema_version": 3,
     "solution": false
    }
   },
   "outputs": [],
   "source": [
    "from torch.utils.data import random_split\n",
    "\n",
    "val_ratio = 0.15\n",
    "test_ratio = 0.15\n",
    "\n",
    "n_samples = len(dataset)\n",
    "n_val_samples = int(n_samples*val_ratio)\n",
    "n_test_samples = int(n_samples*test_ratio)\n",
    "n_train_samples = n_samples-n_val_samples-n_test_samples\n",
    "\n",
    "train_dataset, val_dataset, test_dataset = random_split(dataset, [n_train_samples, n_val_samples, n_test_samples])"
   ]
  },
  {
   "cell_type": "markdown",
   "metadata": {
    "deletable": false,
    "editable": false,
    "nbgrader": {
     "cell_type": "markdown",
     "checksum": "da53c7a8fffae55f48861e3dd82bfb1f",
     "grade": false,
     "grade_id": "cell-485c36faf4913176",
     "locked": true,
     "schema_version": 3,
     "solution": false
    }
   },
   "source": [
    "### 1.3 Defining the optimization"
   ]
  },
  {
   "cell_type": "markdown",
   "metadata": {
    "deletable": false,
    "editable": false,
    "nbgrader": {
     "cell_type": "markdown",
     "checksum": "c01ec8621522587812922448fb267278",
     "grade": false,
     "grade_id": "cell-b2ed39f361f618c2",
     "locked": true,
     "schema_version": 3,
     "solution": false
    }
   },
   "source": [
    "Now we will define the model to be trained, that is, a single layer RNN. As usual, we will create a class for the model and inherit from `nn.Module`. Define in the next cell a class for an RNN that follows the equations:\n",
    "\n",
    "$$ h_t = \\text{tanh}(W_h x_t + U_h h_{t-1} + b_h) $$\n",
    "$$ y_t = \\log \\Big(\\text{Softmax}(W_y h_t + b_y)\\Big)~,$$\n",
    "\n",
    "where $h_t$ is the current hidden-state, $h_{t-1}$ is the previous hidden state, $x_t$ is the input, $y_t$ is the output, and $W_h, U_h, b_h, W_y, b_y$ are the trainable parts of the RNN. As explained before, we will use this RNN to classify names, inputting one character at each step and using the last output as the prediction for a distribution over probable countries for the name.\n",
    "\n",
    "*Hints:*\n",
    "\n",
    "- As you're probably aware by now, PyTorch [has a layer](https://pytorch.org/docs/stable/nn.html#logsoftmax) that already applies the log and the softmax in one pass.\n",
    "- If you get errors related to size mismatches when computing the forward-propagation in your model, try reading the documentation for the specific module where the problem is occurring (e.g. [`nn.Linear`](https://pytorch.org/docs/stable/nn.html#linear)), specially the part about the expected shape of inputs and outputs."
   ]
  },
  {
   "cell_type": "code",
   "execution_count": 23,
   "metadata": {
    "deletable": false,
    "nbgrader": {
     "cell_type": "code",
     "checksum": "779f945b274e152fdb2d16a0f0c59719",
     "grade": true,
     "grade_id": "cell-63759a1c550cd7e1",
     "locked": false,
     "points": 0,
     "schema_version": 3,
     "solution": true
    }
   },
   "outputs": [],
   "source": [
    "import torch.nn as nn\n",
    "\n",
    "class RNN(nn.Module):\n",
    "    def __init__(self, input_size, hidden_size, output_size):\n",
    "        \"\"\"\n",
    "        Inputs:\n",
    "            input_size     - Dimensionality of the input of this RNN.\n",
    "            hidden_size    - Dimensionality of the hidden state.\n",
    "            output_size    - Dimensionality of the output of this RNN.\n",
    "        \"\"\"\n",
    "        \n",
    "        super(RNN, self).__init__()\n",
    "        self.hidden_size = hidden_size\n",
    "        self.input_size = input_size\n",
    "        self.output_size = output_size\n",
    "        \n",
    "        # Defining the layers\n",
    "        # RNN Layer\n",
    "        self.rnn = nn.RNN(input_size, hidden_size, nonlinearity='tanh')  \n",
    "        \n",
    "        # Fully connected layer\n",
    "        self.fc = nn.Linear(hidden_size, output_size)\n",
    "                \n",
    "        \n",
    "    def forward(self, x, h):      \n",
    "        \"\"\"\n",
    "        Runs the RNN module for one time-step.\n",
    "        Inputs:\n",
    "            x              - Batch of one-hot encoded characters. \n",
    "                             Tensor of size (BATCH SIZE x CHARSET LENGTH).\n",
    "            h              - Batch of hidden states at previous time-step.\n",
    "                             Tensor of size (BATCH SIZE x `hidden_size`).\n",
    "        \n",
    "        Returns:\n",
    "            y              - Batch of outputs.\n",
    "                             Tensor of size (BATCH SIZE x NUMBER OF COUNTRIES).\n",
    "            new_h          - Batch of hidden states at current time-step.\n",
    "                             Tensor of size (BATCH SIZE x `hidden_size`).\n",
    "        \"\"\"\n",
    "        \n",
    "        batch_size = x.shape[0]\n",
    "        \n",
    "        y, new_h = self.rnn(x.view(1, batch_size, -1), h.view(-1, batch_size, self.hidden_size)) \n",
    "\n",
    "        new_h = new_h.view(batch_size, -1)\n",
    "        \n",
    "        y = y.view(batch_size, -1)\n",
    "        \n",
    "        y = self.fc(y)\n",
    "        \n",
    "        y = nn.LogSoftmax(dim=1)(y)\n",
    "        \n",
    "        return y, new_h"
   ]
  },
  {
   "cell_type": "markdown",
   "metadata": {
    "deletable": false,
    "editable": false,
    "nbgrader": {
     "cell_type": "markdown",
     "checksum": "ef6f13ee64c864145910c8c572c69619",
     "grade": false,
     "grade_id": "cell-41a6ab734e65e9e2",
     "locked": true,
     "schema_version": 3,
     "solution": false
    }
   },
   "source": [
    "Run the following cell to test whether the shape of your outputs are correct. Note that this *only* checks the shapes, not the content (one way you can check the actual computations of your network is to `print` the tensors as they pass through the layers, in order to check that the computations do what you expected)."
   ]
  },
  {
   "cell_type": "code",
   "execution_count": 24,
   "metadata": {
    "deletable": false,
    "editable": false,
    "nbgrader": {
     "cell_type": "code",
     "checksum": "4315757096090786eee6690c324ba75c",
     "grade": false,
     "grade_id": "cell-0895e453938dcd22",
     "locked": true,
     "schema_version": 3,
     "solution": false
    }
   },
   "outputs": [
    {
     "name": "stdout",
     "output_type": "stream",
     "text": [
      "Test passed.\n"
     ]
    }
   ],
   "source": [
    "# Create a test tensor of size (1 x CHARSET LENGTH)\n",
    "t = torch.ones((1,len(charset))).to(device)\n",
    "\n",
    "# Forward-prop through the RNN\n",
    "rnn = RNN(len(charset), 3, len(names_dict)).to(device)\n",
    "h = torch.ones((1, 3)).to(device)\n",
    "y, new_h = rnn(t, h)\n",
    "\n",
    "# Test dimensions of the outputs\n",
    "err_str = 'The {} has incorrect dimension. Dimension is {}, but should\\'ve been {}'\n",
    "assert list(y.shape) == [1, len(names_dict)], err_str.format('output', list(y.shape), [1, len(names_dict)])\n",
    "assert list(new_h.shape) == [1, 3], err_str.format('new hidden state', list(new_h.shape), [1, 3])\n",
    "\n",
    "print('Test passed.')"
   ]
  },
  {
   "cell_type": "markdown",
   "metadata": {
    "deletable": false,
    "editable": false,
    "nbgrader": {
     "cell_type": "markdown",
     "checksum": "3a95bb58240597c971bb9181a605563e",
     "grade": false,
     "grade_id": "cell-f879b658d2fe97d5",
     "locked": true,
     "schema_version": 3,
     "solution": false
    }
   },
   "source": [
    "**(2 POE)**\n",
    "Suppose we now create an RNN using the following call: `RNN(x, y, z)`. How many parameters would this model have in total?"
   ]
  },
  {
   "cell_type": "markdown",
   "metadata": {
    "deletable": false,
    "nbgrader": {
     "cell_type": "markdown",
     "checksum": "3a75752559679046eec4403fbd11df95",
     "grade": true,
     "grade_id": "cell-d359daf8f96289bc",
     "locked": false,
     "points": 2,
     "schema_version": 3,
     "solution": true
    }
   },
   "source": [
    "**Your answer:** \n",
    "x = input dimension \n",
    "y = hidden dimension\n",
    "z = output dimension\n",
    "\n",
    "The parameters for this network, the input layer weights, hidden layer weights and output layer weights  plus bias for input layer and output layer are shared across each time step. Therefore the number of parameters for this model is the sum of theese parameters:\n",
    "\n",
    "y^2 + xy + yz + y + z"
   ]
  },
  {
   "cell_type": "markdown",
   "metadata": {
    "deletable": false,
    "editable": false,
    "nbgrader": {
     "cell_type": "markdown",
     "checksum": "0d5dc81f8efd4a09172a3480777b3273",
     "grade": false,
     "grade_id": "cell-e3ae784b6fd462cb",
     "locked": true,
     "schema_version": 3,
     "solution": false
    }
   },
   "source": [
    "We will use the Adam optimizer:"
   ]
  },
  {
   "cell_type": "code",
   "execution_count": 25,
   "metadata": {
    "deletable": false,
    "editable": false,
    "nbgrader": {
     "cell_type": "code",
     "checksum": "32abb30aecff746e6f8450bd2585ccd9",
     "grade": false,
     "grade_id": "cell-c8087333699def0c",
     "locked": true,
     "schema_version": 3,
     "solution": false
    }
   },
   "outputs": [],
   "source": [
    "from torch.optim import Adam"
   ]
  },
  {
   "cell_type": "markdown",
   "metadata": {
    "deletable": false,
    "editable": false,
    "nbgrader": {
     "cell_type": "markdown",
     "checksum": "bce7d6662ece2790aea9b9559ba42655",
     "grade": false,
     "grade_id": "cell-6411a391a74a5e36",
     "locked": true,
     "schema_version": 3,
     "solution": false
    }
   },
   "source": [
    "and since this is a classification problem we will use the negative log-likelihood loss ([`NLLLoss`](https://pytorch.org/docs/stable/nn.html#nllloss)) to train the model. We should account for the fact that our dataset is imbalanced, and one way of dealing with this problem is to assign different weights to each class in our problem. "
   ]
  },
  {
   "cell_type": "code",
   "execution_count": 26,
   "metadata": {
    "deletable": false,
    "editable": false,
    "nbgrader": {
     "cell_type": "code",
     "checksum": "03b88a4c73ebe26c0dba9ef4e33de623",
     "grade": false,
     "grade_id": "cell-934166eac20acb50",
     "locked": true,
     "schema_version": 3,
     "solution": false
    }
   },
   "outputs": [],
   "source": [
    "# Compute weights for each class\n",
    "n_names_for_each_country = [len(v) for v in names_dict.values()]\n",
    "ns = torch.tensor(n_names_for_each_country, dtype=torch.float)\n",
    "w = 1.0 / ns\n",
    "w = w / w.sum()\n",
    "\n",
    "# Define loss\n",
    "criterion = nn.NLLLoss(weight=w.to(device))"
   ]
  },
  {
   "cell_type": "markdown",
   "metadata": {
    "deletable": false,
    "editable": false,
    "nbgrader": {
     "cell_type": "markdown",
     "checksum": "79c6e7c250cee58a49186aa590044e90",
     "grade": false,
     "grade_id": "cell-b333a7e050fbe007",
     "locked": true,
     "schema_version": 3,
     "solution": false
    }
   },
   "source": [
    "**(1 POE)**\n",
    "Why is it a problem that the dataset is imbalanced? What would be the consequence of not dealing with this problem?"
   ]
  },
  {
   "cell_type": "markdown",
   "metadata": {
    "deletable": false,
    "nbgrader": {
     "cell_type": "markdown",
     "checksum": "7e3b31f0c623204a864969abc9aa7041",
     "grade": true,
     "grade_id": "cell-a044d5b4e3bcf29b",
     "locked": false,
     "points": 1,
     "schema_version": 3,
     "solution": true
    }
   },
   "source": [
    "**Your answer:** \n",
    "\n",
    "The problem with training a model on an imbalanced dataset is that when some of the classes are overrepresented the model could be biased to predicting the overrepresented classs more often, just because it occurs more often in the dataset, this can lead to missleading accuracy. Another consequense could be that if there are a smaller amount of data for some classes, the model will not be able to generalize the minority class.\n",
    "\n"
   ]
  },
  {
   "cell_type": "markdown",
   "metadata": {
    "deletable": false,
    "editable": false,
    "nbgrader": {
     "cell_type": "markdown",
     "checksum": "9b0d76d5afa72c2d445f090a5ecbf20e",
     "grade": false,
     "grade_id": "cell-0611001189dd369a",
     "locked": true,
     "schema_version": 3,
     "solution": false
    }
   },
   "source": [
    "**(2 POE)**\n",
    "Why does assigning different weights to each class solve this problem? How should the weights be chosen?"
   ]
  },
  {
   "cell_type": "markdown",
   "metadata": {
    "deletable": false,
    "nbgrader": {
     "cell_type": "markdown",
     "checksum": "1908cf73b523fb7c22c7b7b0bf2221c6",
     "grade": true,
     "grade_id": "cell-f19ff5370ea1e86d",
     "locked": false,
     "points": 2,
     "schema_version": 3,
     "solution": true
    }
   },
   "source": [
    "**Your answer:** \n",
    "\n",
    "You would assign higher weights the minority class and lower weights to majority class, the weights will tell the model how much to emphasise each class, this could create an illusion of a balanced dateset."
   ]
  },
  {
   "cell_type": "markdown",
   "metadata": {
    "deletable": false,
    "editable": false,
    "nbgrader": {
     "cell_type": "markdown",
     "checksum": "bc3ac401b23e46dea5a68ad5f0a6123e",
     "grade": false,
     "grade_id": "cell-ced0796bf818f493",
     "locked": true,
     "schema_version": 3,
     "solution": false
    }
   },
   "source": [
    "**(2 POE)**\n",
    "Is there any situation where *we would want* class imbalances? How could we create such a class imbalance in a balanced dataset (without changing the dataset itself)? "
   ]
  },
  {
   "cell_type": "markdown",
   "metadata": {
    "deletable": false,
    "nbgrader": {
     "cell_type": "markdown",
     "checksum": "36c4aa6f2c2895828bda0b8e99b0d11a",
     "grade": true,
     "grade_id": "cell-821c6a2fb462d2f9",
     "locked": false,
     "points": 2,
     "schema_version": 3,
     "solution": true
    }
   },
   "source": [
    "**Your answer:** \n",
    "\n",
    "It could be informative to evaluate a trained model on an imbalanced dataset in order to evaluate how well it would preform on a \"real-world\" dataset, that are most often imbalanced.\n",
    "\n",
    "Such a dataset could be created by simlply undersampling one of the classes. One other optinon  would be to use weights for the classes, as in the question above."
   ]
  },
  {
   "cell_type": "markdown",
   "metadata": {
    "deletable": false,
    "editable": false,
    "nbgrader": {
     "cell_type": "markdown",
     "checksum": "cbc3cc703eb376f0ad0be049bef4e506",
     "grade": false,
     "grade_id": "cell-95508ad6a5c542b5",
     "locked": true,
     "schema_version": 3,
     "solution": false
    }
   },
   "source": [
    "### 1.4 Helper functions for training"
   ]
  },
  {
   "cell_type": "markdown",
   "metadata": {
    "deletable": false,
    "editable": false,
    "nbgrader": {
     "cell_type": "markdown",
     "checksum": "3872100fbac2567ded7728124e72bd8d",
     "grade": false,
     "grade_id": "cell-ccbb270d5fe1c30c",
     "locked": true,
     "schema_version": 3,
     "solution": false
    }
   },
   "source": [
    "**(1.5 POE)** Now that we defined the optimization problem, we can start creating the code to actually solve it. The first thing that we need is a function that, given a batch of samples, computes the output of the model for every sample and the average loss across all samples. \n",
    "\n",
    "Complete the function `batch_forward_prop` to produce this behavior.\n",
    "\n",
    "*Hints*:\n",
    "\n",
    "- Initialize the hidden state to a zero Tensor for the first forward-propagation.\n",
    "- If you get errors related to size mismatches when computing the forward-propagation in your model, try reading the documentation for the specific module where the problem is occurring (e.g. [`nn.Linear`](https://pytorch.org/docs/stable/nn.html#linear)), especially the part about the expected shape of inputs and outputs.\n",
    "- If you get errors related to size mismatches when computing the loss, try reading the [documentation for it](https://pytorch.org/docs/stable/nn.html#nllloss), especially the part about the expected shape of inputs and outputs."
   ]
  },
  {
   "cell_type": "code",
   "execution_count": 27,
   "metadata": {
    "deletable": false,
    "nbgrader": {
     "cell_type": "code",
     "checksum": "a43acc034ca0c7356e97f2f5bd1514cb",
     "grade": true,
     "grade_id": "cell-080aad948708672d",
     "locked": false,
     "points": 1.5,
     "schema_version": 3,
     "solution": true
    }
   },
   "outputs": [],
   "source": [
    "def batch_forward_prop(rnn, xs, ys):  \n",
    "    \"\"\"\n",
    "    Inputs:\n",
    "        rnn            - The RNN model, instance of the RNN class.\n",
    "        xs             - Batch of input words.\n",
    "                         Tensor of shape (BATCH SIZE x `target_len` x CHARSET LENGTH).\n",
    "        ys             - Batch of ground-truth labels.\n",
    "                         Tensor of  shape (BATCH_SIZE).\n",
    "    \n",
    "    Returns:\n",
    "        output         - Output computed at the last character position in the batch.\n",
    "                         Tensor of shape (BATCH_SIZE x NUMBER OF COUNTRIES).\n",
    "        loss           - Value of the average loss across the predictions for this batch, later used for back-propagation.\n",
    "                         Tensor with a single element inside.\n",
    "    \"\"\"\n",
    "    \n",
    "    batch_size = xs.shape[0]\n",
    "    hidden_size = rnn.hidden_size\n",
    "    h =  torch.zeros(batch_size, hidden_size)\n",
    "    loss = 0\n",
    "    \n",
    "    \n",
    "    target_len = xs.shape[1]\n",
    "    for s in range(target_len):\n",
    "        x = torch.narrow(xs, 1, s, 1)\n",
    "\n",
    "        ys_pred, h = rnn(x, h)\n",
    "        \n",
    "        loss += criterion(ys_pred, ys)\n",
    "\n",
    "    loss = loss / target_len\n",
    "    output = ys_pred\n",
    "        \n",
    "    return output, loss"
   ]
  },
  {
   "cell_type": "markdown",
   "metadata": {
    "deletable": false,
    "editable": false,
    "nbgrader": {
     "cell_type": "markdown",
     "checksum": "99ee062817c7b56e5180058437d2f26d",
     "grade": false,
     "grade_id": "cell-644f9d6aaa50e21c",
     "locked": true,
     "schema_version": 3,
     "solution": false
    }
   },
   "source": [
    "Run the following cell to test whether the shape of your outputs are correct. Note that this *only* checks the shapes, not the content."
   ]
  },
  {
   "cell_type": "code",
   "execution_count": 28,
   "metadata": {
    "deletable": false,
    "editable": false,
    "nbgrader": {
     "cell_type": "code",
     "checksum": "a3dbd376c434b09e3945c9d1ac43b803",
     "grade": false,
     "grade_id": "cell-02f7744a186b2ebe",
     "locked": true,
     "schema_version": 3,
     "solution": false
    }
   },
   "outputs": [
    {
     "name": "stdout",
     "output_type": "stream",
     "text": [
      "Test passed.\n"
     ]
    }
   ],
   "source": [
    "def test_rnn():\n",
    "    # Create two tensors\n",
    "    t1 = name2tensor('Unit')\n",
    "    t2 = name2tensor('Test')\n",
    "\n",
    "    # Add the batch dimension to them and concatenate\n",
    "    t = torch.cat([t1[None, :], t2[None, :]], dim=0)\n",
    "\n",
    "    # Create label tensor\n",
    "    l = torch.ones((2), dtype=torch.long)\n",
    "\n",
    "    # Create RNN\n",
    "    rnn = RNN(len(charset), 10, len(names_dict))\n",
    "\n",
    "    # Put everything in the correct device\n",
    "    t = t.to(device)\n",
    "    l = l.to(device)\n",
    "    rnn.to(device)\n",
    "\n",
    "    # Perform the forward-prop\n",
    "    y, loss = batch_forward_prop(rnn, t, l)\n",
    "\n",
    "    # Test dimensions of the outputs\n",
    "    err_str = 'The {} has incorrect dimension. Dimension is {}, but should\\'ve been {}'\n",
    "    assert list(y.shape) == [2, len(names_dict)], err_str.format('output', list(y.shape), [2, len(names_dict)])\n",
    "    assert list(loss.shape) == [], err_str.format('loss', list(loss.shape), [])\n",
    "\n",
    "    print('Test passed.')\n",
    "    \n",
    "test_rnn()"
   ]
  },
  {
   "cell_type": "markdown",
   "metadata": {
    "deletable": false,
    "editable": false,
    "nbgrader": {
     "cell_type": "markdown",
     "checksum": "d0829fc6b5254f539a66a81a3024bdfc",
     "grade": false,
     "grade_id": "cell-4010f6bcbc1e6245",
     "locked": true,
     "schema_version": 3,
     "solution": false
    }
   },
   "source": [
    "Using this function, it's straightforward to train on a single batch of data:"
   ]
  },
  {
   "cell_type": "code",
   "execution_count": 29,
   "metadata": {
    "deletable": false,
    "editable": false,
    "nbgrader": {
     "cell_type": "code",
     "checksum": "d31d4ef7500c06aea4ecdcf27d399fa8",
     "grade": false,
     "grade_id": "cell-78972c6d342b4da9",
     "locked": true,
     "schema_version": 3,
     "solution": false
    }
   },
   "outputs": [],
   "source": [
    "from torch.nn.utils import clip_grad_norm\n",
    "\n",
    "def train_batch(rnn, xs, ys, optimizer):\n",
    "    \n",
    "    # Compute the output for all samples in the batch and the average loss\n",
    "    output, loss = batch_forward_prop(rnn, xs, ys)\n",
    "    \n",
    "    # Zero gradients before computing backward-propagation\n",
    "    optimizer.zero_grad()\n",
    "\n",
    "    # Backward-propagation\n",
    "    loss.backward()\n",
    "    \n",
    "    # Clip the gradient norm (optional, helps to stabilize training)\n",
    "    nn.utils.clip_grad_norm_(rnn.parameters(), 2)\n",
    "    \n",
    "    # Perform one step of optimization\n",
    "    optimizer.step()\n",
    "    \n",
    "    return output, loss"
   ]
  },
  {
   "cell_type": "markdown",
   "metadata": {
    "deletable": false,
    "editable": false,
    "nbgrader": {
     "cell_type": "markdown",
     "checksum": "576143bb6960f21f2b68bd6bb977a9f0",
     "grade": false,
     "grade_id": "cell-f2b194756febe3f1",
     "locked": true,
     "schema_version": 3,
     "solution": false
    }
   },
   "source": [
    "We will also need a function for computing metrics of interest in the validation set. In this case, we will plot both the loss and the F1-score in the validation set. The F1-score of a classifier is the [harmonic mean](https://en.wikipedia.org/wiki/Harmonic_mean) of its [precision and recall](https://en.wikipedia.org/wiki/Precision_and_recall), two metrics that are more useful than accuracy for imbalanced datasets. [This blog post](https://towardsdatascience.com/accuracy-precision-recall-or-f1-331fb37c5cb9) can help you to familiarize yourself with these new metrics."
   ]
  },
  {
   "cell_type": "code",
   "execution_count": 30,
   "metadata": {
    "deletable": false,
    "editable": false,
    "nbgrader": {
     "cell_type": "code",
     "checksum": "8e3455a07c3f54b5b32d0b11eae460d5",
     "grade": false,
     "grade_id": "cell-94021e46113ec8cb",
     "locked": true,
     "schema_version": 3,
     "solution": false
    }
   },
   "outputs": [],
   "source": [
    "from sklearn.metrics import precision_recall_fscore_support\n",
    "\n",
    "def compute_metrics_on_validation_set(rnn, val_dataset):\n",
    "    # Get all the input and labels in the training set.\n",
    "    x_val, y_val = val_dataset[:]\n",
    "    \n",
    "    # Perform forward-prop in the entire validation set, with autograd disabled\n",
    "    with torch.no_grad():\n",
    "        val_output, val_loss = batch_forward_prop(rnn, x_val, y_val)\n",
    "    \n",
    "    # Get numpy arrays for the true labels and the predictions\n",
    "    y_true = y_val.cpu().numpy()\n",
    "    y_pred = val_output.argmax(dim=1).cpu().numpy()\n",
    "    \n",
    "    # Compute precision, recall, and F-score\n",
    "    precision, recall, fscore, _ = precision_recall_fscore_support(y_true, y_pred, average='macro')\n",
    "    \n",
    "    return val_loss, precision, recall, fscore"
   ]
  },
  {
   "cell_type": "markdown",
   "metadata": {
    "deletable": false,
    "editable": false,
    "nbgrader": {
     "cell_type": "markdown",
     "checksum": "06672da367df025e50d1fc66d1a14015",
     "grade": false,
     "grade_id": "cell-2e37e571600c2220",
     "locked": true,
     "schema_version": 3,
     "solution": false
    }
   },
   "source": [
    "Lastly, we define a function for plotting the metrics in real-time."
   ]
  },
  {
   "cell_type": "code",
   "execution_count": 31,
   "metadata": {
    "deletable": false,
    "editable": false,
    "nbgrader": {
     "cell_type": "code",
     "checksum": "859fef7a4f5ff12b633c79a3fb2e3201",
     "grade": false,
     "grade_id": "cell-2807fe4cfa2d8b29",
     "locked": true,
     "schema_version": 3,
     "solution": false
    }
   },
   "outputs": [],
   "source": [
    "def plot_metrics(fig, ax, ns, train_losses, train_fscores, val_losses, val_fscores):\n",
    "\n",
    "    # Plot losses\n",
    "    ax[0].clear()\n",
    "    ax[0].plot(ns, train_losses)\n",
    "    ax[0].plot(ns, val_losses)\n",
    "    ax[0].set_title('Loss')\n",
    "    ax[0].legend(['Train','Validation'])\n",
    "    ax[0].set_xlabel('Number of trained batches')\n",
    "    ax[0].grid()\n",
    "\n",
    "    # Plot F1-scores\n",
    "    ax[1].clear()\n",
    "    ax[1].plot(ns, train_fscores)\n",
    "    ax[1].plot(ns, val_fscores)\n",
    "    ax[1].plot(ns, [0.3]*len(ns), 'k--')\n",
    "    ax[1].set_title('Macro F1-score')\n",
    "    ax[1].legend(['Train','Validation', 'F1-score threshold'])\n",
    "    ax[1].set_xlabel('Number of trained batches')\n",
    "    ax[1].grid()\n",
    "    \n",
    "    \n",
    "    fig.canvas.draw()"
   ]
  },
  {
   "cell_type": "markdown",
   "metadata": {
    "deletable": false,
    "editable": false,
    "nbgrader": {
     "cell_type": "markdown",
     "checksum": "520a4c1ba775bfc75e1ed71009bcf6b9",
     "grade": false,
     "grade_id": "cell-2a8edc5c0c4d13d6",
     "locked": true,
     "schema_version": 3,
     "solution": false
    }
   },
   "source": [
    "With these helper functions, the `train` function becomes:"
   ]
  },
  {
   "cell_type": "code",
   "execution_count": 32,
   "metadata": {
    "deletable": false,
    "editable": false,
    "nbgrader": {
     "cell_type": "code",
     "checksum": "813b06b76f53b705f6d47981651c673c",
     "grade": false,
     "grade_id": "cell-61029512380ba880",
     "locked": true,
     "schema_version": 3,
     "solution": false
    }
   },
   "outputs": [],
   "source": [
    "from torch.utils.data import DataLoader\n",
    "\n",
    "def train(rnn, n_epochs, learning_rate, batch_size, train_dataset, val_dataset):\n",
    "    \n",
    "    # Setup the figure for plotting progress during training\n",
    "    %matplotlib notebook\n",
    "    fig, ax = plt.subplots(ncols=2, figsize=(12,4))\n",
    "    plt.ion()\n",
    "    plot_interval = 100\n",
    "    \n",
    "    # Create arrays to average training metrics across batches\n",
    "    preds = []\n",
    "    labels = []\n",
    "    losses = []\n",
    "    \n",
    "    # Create dictionaries to hold the computed metrics in\n",
    "    train_data = {'losses': [], 'fscores': []}\n",
    "    val_data = {'losses': [], 'fscores': []}\n",
    "    \n",
    "    optimizer = Adam(rnn.parameters(), lr=learning_rate)\n",
    "    train_data_loader = DataLoader(train_dataset, batch_size=batch_size, shuffle=True, drop_last=True)\n",
    "    batch_idxs = []\n",
    "    \n",
    "    # Training loop\n",
    "    i_batch = 0\n",
    "    for n in range(n_epochs):\n",
    "        for i, (x_batch, y_batch) in enumerate(train_data_loader):\n",
    "            i_batch += 1\n",
    "            \n",
    "            # Compute loss and outputs\n",
    "            output, loss = train_batch(rnn, x_batch, y_batch, optimizer)\n",
    "            \n",
    "            # Aggregate for later averaging\n",
    "            preds += output.argmax(dim=1).cpu().tolist()\n",
    "            labels += y_batch.cpu().tolist()\n",
    "            losses.append(loss)\n",
    "            \n",
    "            # Compute metrics and plot after every `plot_interval` batches\n",
    "            if i % plot_interval == 0:\n",
    "              \n",
    "                val_loss, _, _, val_fscore = compute_metrics_on_validation_set(rnn, val_dataset)\n",
    "                train_fscore = precision_recall_fscore_support(labels, preds, average='macro')[2]\n",
    "                \n",
    "                val_data['losses'].append(val_loss)\n",
    "                val_data['fscores'].append(val_fscore)\n",
    "                train_data['losses'].append(sum(losses)/len(losses))\n",
    "                train_data['fscores'].append(train_fscore)\n",
    "                batch_idxs.append(i_batch)\n",
    "\n",
    "                preds = []\n",
    "                labels = []\n",
    "                losses = []\n",
    "\n",
    "                plot_metrics(fig, ax, batch_idxs, train_data['losses'], train_data['fscores'], val_data['losses'], val_data['fscores'])"
   ]
  },
  {
   "cell_type": "markdown",
   "metadata": {
    "deletable": false,
    "editable": false,
    "nbgrader": {
     "cell_type": "markdown",
     "checksum": "0f89bbf2c0e1f3ab9e64a937f8e24863",
     "grade": false,
     "grade_id": "cell-f92f1fd576a8a7cb",
     "locked": true,
     "schema_version": 3,
     "solution": false
    }
   },
   "source": [
    "Make sure that you completely understand the `train` function before proceeding (e.g. that we aggregate predictions from different batches and compute metrics only at a certain interval, etc)."
   ]
  },
  {
   "cell_type": "markdown",
   "metadata": {
    "deletable": false,
    "editable": false,
    "nbgrader": {
     "cell_type": "markdown",
     "checksum": "7a05af24ebd66b8c1d816a07e33bb730",
     "grade": false,
     "grade_id": "cell-18f5c7620b914ebd",
     "locked": true,
     "schema_version": 3,
     "solution": false
    }
   },
   "source": [
    "### 1.5 Training!\n",
    "\n",
    "Now we're ready to train the network! Create an RNN and use the `train` function to train it.\n",
    "\n",
    "*Hints*:\n",
    "\n",
    "- Tuning the hyper-parameters (number of hidden units, learning rate, batch size, etc) will take some trial-and-error. Try simple things first, and then once you manage to train them, start scaling up. Also, have in mind the bias-variance tradeoff mentioned in the lectures.\n",
    "- When tuning the learning rate, focus first on being able to decrease the training loss. Keep decreasing the learning rate until that starts happening."
   ]
  },
  {
   "cell_type": "code",
   "execution_count": 49,
   "metadata": {
    "deletable": false,
    "nbgrader": {
     "cell_type": "code",
     "checksum": "0e3d64e9c5c79168399628331405b8ed",
     "grade": true,
     "grade_id": "cell-937381af9dcaf490",
     "locked": false,
     "points": 0,
     "schema_version": 3,
     "solution": true
    }
   },
   "outputs": [
    {
     "data": {
      "application/javascript": [
       "/* Put everything inside the global mpl namespace */\n",
       "/* global mpl */\n",
       "window.mpl = {};\n",
       "\n",
       "mpl.get_websocket_type = function () {\n",
       "    if (typeof WebSocket !== 'undefined') {\n",
       "        return WebSocket;\n",
       "    } else if (typeof MozWebSocket !== 'undefined') {\n",
       "        return MozWebSocket;\n",
       "    } else {\n",
       "        alert(\n",
       "            'Your browser does not have WebSocket support. ' +\n",
       "                'Please try Chrome, Safari or Firefox ≥ 6. ' +\n",
       "                'Firefox 4 and 5 are also supported but you ' +\n",
       "                'have to enable WebSockets in about:config.'\n",
       "        );\n",
       "    }\n",
       "};\n",
       "\n",
       "mpl.figure = function (figure_id, websocket, ondownload, parent_element) {\n",
       "    this.id = figure_id;\n",
       "\n",
       "    this.ws = websocket;\n",
       "\n",
       "    this.supports_binary = this.ws.binaryType !== undefined;\n",
       "\n",
       "    if (!this.supports_binary) {\n",
       "        var warnings = document.getElementById('mpl-warnings');\n",
       "        if (warnings) {\n",
       "            warnings.style.display = 'block';\n",
       "            warnings.textContent =\n",
       "                'This browser does not support binary websocket messages. ' +\n",
       "                'Performance may be slow.';\n",
       "        }\n",
       "    }\n",
       "\n",
       "    this.imageObj = new Image();\n",
       "\n",
       "    this.context = undefined;\n",
       "    this.message = undefined;\n",
       "    this.canvas = undefined;\n",
       "    this.rubberband_canvas = undefined;\n",
       "    this.rubberband_context = undefined;\n",
       "    this.format_dropdown = undefined;\n",
       "\n",
       "    this.image_mode = 'full';\n",
       "\n",
       "    this.root = document.createElement('div');\n",
       "    this.root.setAttribute('style', 'display: inline-block');\n",
       "    this._root_extra_style(this.root);\n",
       "\n",
       "    parent_element.appendChild(this.root);\n",
       "\n",
       "    this._init_header(this);\n",
       "    this._init_canvas(this);\n",
       "    this._init_toolbar(this);\n",
       "\n",
       "    var fig = this;\n",
       "\n",
       "    this.waiting = false;\n",
       "\n",
       "    this.ws.onopen = function () {\n",
       "        fig.send_message('supports_binary', { value: fig.supports_binary });\n",
       "        fig.send_message('send_image_mode', {});\n",
       "        if (mpl.ratio !== 1) {\n",
       "            fig.send_message('set_dpi_ratio', { dpi_ratio: mpl.ratio });\n",
       "        }\n",
       "        fig.send_message('refresh', {});\n",
       "    };\n",
       "\n",
       "    this.imageObj.onload = function () {\n",
       "        if (fig.image_mode === 'full') {\n",
       "            // Full images could contain transparency (where diff images\n",
       "            // almost always do), so we need to clear the canvas so that\n",
       "            // there is no ghosting.\n",
       "            fig.context.clearRect(0, 0, fig.canvas.width, fig.canvas.height);\n",
       "        }\n",
       "        fig.context.drawImage(fig.imageObj, 0, 0);\n",
       "    };\n",
       "\n",
       "    this.imageObj.onunload = function () {\n",
       "        fig.ws.close();\n",
       "    };\n",
       "\n",
       "    this.ws.onmessage = this._make_on_message_function(this);\n",
       "\n",
       "    this.ondownload = ondownload;\n",
       "};\n",
       "\n",
       "mpl.figure.prototype._init_header = function () {\n",
       "    var titlebar = document.createElement('div');\n",
       "    titlebar.classList =\n",
       "        'ui-dialog-titlebar ui-widget-header ui-corner-all ui-helper-clearfix';\n",
       "    var titletext = document.createElement('div');\n",
       "    titletext.classList = 'ui-dialog-title';\n",
       "    titletext.setAttribute(\n",
       "        'style',\n",
       "        'width: 100%; text-align: center; padding: 3px;'\n",
       "    );\n",
       "    titlebar.appendChild(titletext);\n",
       "    this.root.appendChild(titlebar);\n",
       "    this.header = titletext;\n",
       "};\n",
       "\n",
       "mpl.figure.prototype._canvas_extra_style = function (_canvas_div) {};\n",
       "\n",
       "mpl.figure.prototype._root_extra_style = function (_canvas_div) {};\n",
       "\n",
       "mpl.figure.prototype._init_canvas = function () {\n",
       "    var fig = this;\n",
       "\n",
       "    var canvas_div = (this.canvas_div = document.createElement('div'));\n",
       "    canvas_div.setAttribute(\n",
       "        'style',\n",
       "        'border: 1px solid #ddd;' +\n",
       "            'box-sizing: content-box;' +\n",
       "            'clear: both;' +\n",
       "            'min-height: 1px;' +\n",
       "            'min-width: 1px;' +\n",
       "            'outline: 0;' +\n",
       "            'overflow: hidden;' +\n",
       "            'position: relative;' +\n",
       "            'resize: both;'\n",
       "    );\n",
       "\n",
       "    function on_keyboard_event_closure(name) {\n",
       "        return function (event) {\n",
       "            return fig.key_event(event, name);\n",
       "        };\n",
       "    }\n",
       "\n",
       "    canvas_div.addEventListener(\n",
       "        'keydown',\n",
       "        on_keyboard_event_closure('key_press')\n",
       "    );\n",
       "    canvas_div.addEventListener(\n",
       "        'keyup',\n",
       "        on_keyboard_event_closure('key_release')\n",
       "    );\n",
       "\n",
       "    this._canvas_extra_style(canvas_div);\n",
       "    this.root.appendChild(canvas_div);\n",
       "\n",
       "    var canvas = (this.canvas = document.createElement('canvas'));\n",
       "    canvas.classList.add('mpl-canvas');\n",
       "    canvas.setAttribute('style', 'box-sizing: content-box;');\n",
       "\n",
       "    this.context = canvas.getContext('2d');\n",
       "\n",
       "    var backingStore =\n",
       "        this.context.backingStorePixelRatio ||\n",
       "        this.context.webkitBackingStorePixelRatio ||\n",
       "        this.context.mozBackingStorePixelRatio ||\n",
       "        this.context.msBackingStorePixelRatio ||\n",
       "        this.context.oBackingStorePixelRatio ||\n",
       "        this.context.backingStorePixelRatio ||\n",
       "        1;\n",
       "\n",
       "    mpl.ratio = (window.devicePixelRatio || 1) / backingStore;\n",
       "\n",
       "    var rubberband_canvas = (this.rubberband_canvas = document.createElement(\n",
       "        'canvas'\n",
       "    ));\n",
       "    rubberband_canvas.setAttribute(\n",
       "        'style',\n",
       "        'box-sizing: content-box; position: absolute; left: 0; top: 0; z-index: 1;'\n",
       "    );\n",
       "\n",
       "    var resizeObserver = new ResizeObserver(function (entries) {\n",
       "        var nentries = entries.length;\n",
       "        for (var i = 0; i < nentries; i++) {\n",
       "            var entry = entries[i];\n",
       "            var width, height;\n",
       "            if (entry.contentBoxSize) {\n",
       "                if (entry.contentBoxSize instanceof Array) {\n",
       "                    // Chrome 84 implements new version of spec.\n",
       "                    width = entry.contentBoxSize[0].inlineSize;\n",
       "                    height = entry.contentBoxSize[0].blockSize;\n",
       "                } else {\n",
       "                    // Firefox implements old version of spec.\n",
       "                    width = entry.contentBoxSize.inlineSize;\n",
       "                    height = entry.contentBoxSize.blockSize;\n",
       "                }\n",
       "            } else {\n",
       "                // Chrome <84 implements even older version of spec.\n",
       "                width = entry.contentRect.width;\n",
       "                height = entry.contentRect.height;\n",
       "            }\n",
       "\n",
       "            // Keep the size of the canvas and rubber band canvas in sync with\n",
       "            // the canvas container.\n",
       "            if (entry.devicePixelContentBoxSize) {\n",
       "                // Chrome 84 implements new version of spec.\n",
       "                canvas.setAttribute(\n",
       "                    'width',\n",
       "                    entry.devicePixelContentBoxSize[0].inlineSize\n",
       "                );\n",
       "                canvas.setAttribute(\n",
       "                    'height',\n",
       "                    entry.devicePixelContentBoxSize[0].blockSize\n",
       "                );\n",
       "            } else {\n",
       "                canvas.setAttribute('width', width * mpl.ratio);\n",
       "                canvas.setAttribute('height', height * mpl.ratio);\n",
       "            }\n",
       "            canvas.setAttribute(\n",
       "                'style',\n",
       "                'width: ' + width + 'px; height: ' + height + 'px;'\n",
       "            );\n",
       "\n",
       "            rubberband_canvas.setAttribute('width', width);\n",
       "            rubberband_canvas.setAttribute('height', height);\n",
       "\n",
       "            // And update the size in Python. We ignore the initial 0/0 size\n",
       "            // that occurs as the element is placed into the DOM, which should\n",
       "            // otherwise not happen due to the minimum size styling.\n",
       "            if (width != 0 && height != 0) {\n",
       "                fig.request_resize(width, height);\n",
       "            }\n",
       "        }\n",
       "    });\n",
       "    resizeObserver.observe(canvas_div);\n",
       "\n",
       "    function on_mouse_event_closure(name) {\n",
       "        return function (event) {\n",
       "            return fig.mouse_event(event, name);\n",
       "        };\n",
       "    }\n",
       "\n",
       "    rubberband_canvas.addEventListener(\n",
       "        'mousedown',\n",
       "        on_mouse_event_closure('button_press')\n",
       "    );\n",
       "    rubberband_canvas.addEventListener(\n",
       "        'mouseup',\n",
       "        on_mouse_event_closure('button_release')\n",
       "    );\n",
       "    // Throttle sequential mouse events to 1 every 20ms.\n",
       "    rubberband_canvas.addEventListener(\n",
       "        'mousemove',\n",
       "        on_mouse_event_closure('motion_notify')\n",
       "    );\n",
       "\n",
       "    rubberband_canvas.addEventListener(\n",
       "        'mouseenter',\n",
       "        on_mouse_event_closure('figure_enter')\n",
       "    );\n",
       "    rubberband_canvas.addEventListener(\n",
       "        'mouseleave',\n",
       "        on_mouse_event_closure('figure_leave')\n",
       "    );\n",
       "\n",
       "    canvas_div.addEventListener('wheel', function (event) {\n",
       "        if (event.deltaY < 0) {\n",
       "            event.step = 1;\n",
       "        } else {\n",
       "            event.step = -1;\n",
       "        }\n",
       "        on_mouse_event_closure('scroll')(event);\n",
       "    });\n",
       "\n",
       "    canvas_div.appendChild(canvas);\n",
       "    canvas_div.appendChild(rubberband_canvas);\n",
       "\n",
       "    this.rubberband_context = rubberband_canvas.getContext('2d');\n",
       "    this.rubberband_context.strokeStyle = '#000000';\n",
       "\n",
       "    this._resize_canvas = function (width, height, forward) {\n",
       "        if (forward) {\n",
       "            canvas_div.style.width = width + 'px';\n",
       "            canvas_div.style.height = height + 'px';\n",
       "        }\n",
       "    };\n",
       "\n",
       "    // Disable right mouse context menu.\n",
       "    this.rubberband_canvas.addEventListener('contextmenu', function (_e) {\n",
       "        event.preventDefault();\n",
       "        return false;\n",
       "    });\n",
       "\n",
       "    function set_focus() {\n",
       "        canvas.focus();\n",
       "        canvas_div.focus();\n",
       "    }\n",
       "\n",
       "    window.setTimeout(set_focus, 100);\n",
       "};\n",
       "\n",
       "mpl.figure.prototype._init_toolbar = function () {\n",
       "    var fig = this;\n",
       "\n",
       "    var toolbar = document.createElement('div');\n",
       "    toolbar.classList = 'mpl-toolbar';\n",
       "    this.root.appendChild(toolbar);\n",
       "\n",
       "    function on_click_closure(name) {\n",
       "        return function (_event) {\n",
       "            return fig.toolbar_button_onclick(name);\n",
       "        };\n",
       "    }\n",
       "\n",
       "    function on_mouseover_closure(tooltip) {\n",
       "        return function (event) {\n",
       "            if (!event.currentTarget.disabled) {\n",
       "                return fig.toolbar_button_onmouseover(tooltip);\n",
       "            }\n",
       "        };\n",
       "    }\n",
       "\n",
       "    fig.buttons = {};\n",
       "    var buttonGroup = document.createElement('div');\n",
       "    buttonGroup.classList = 'mpl-button-group';\n",
       "    for (var toolbar_ind in mpl.toolbar_items) {\n",
       "        var name = mpl.toolbar_items[toolbar_ind][0];\n",
       "        var tooltip = mpl.toolbar_items[toolbar_ind][1];\n",
       "        var image = mpl.toolbar_items[toolbar_ind][2];\n",
       "        var method_name = mpl.toolbar_items[toolbar_ind][3];\n",
       "\n",
       "        if (!name) {\n",
       "            /* Instead of a spacer, we start a new button group. */\n",
       "            if (buttonGroup.hasChildNodes()) {\n",
       "                toolbar.appendChild(buttonGroup);\n",
       "            }\n",
       "            buttonGroup = document.createElement('div');\n",
       "            buttonGroup.classList = 'mpl-button-group';\n",
       "            continue;\n",
       "        }\n",
       "\n",
       "        var button = (fig.buttons[name] = document.createElement('button'));\n",
       "        button.classList = 'mpl-widget';\n",
       "        button.setAttribute('role', 'button');\n",
       "        button.setAttribute('aria-disabled', 'false');\n",
       "        button.addEventListener('click', on_click_closure(method_name));\n",
       "        button.addEventListener('mouseover', on_mouseover_closure(tooltip));\n",
       "\n",
       "        var icon_img = document.createElement('img');\n",
       "        icon_img.src = '_images/' + image + '.png';\n",
       "        icon_img.srcset = '_images/' + image + '_large.png 2x';\n",
       "        icon_img.alt = tooltip;\n",
       "        button.appendChild(icon_img);\n",
       "\n",
       "        buttonGroup.appendChild(button);\n",
       "    }\n",
       "\n",
       "    if (buttonGroup.hasChildNodes()) {\n",
       "        toolbar.appendChild(buttonGroup);\n",
       "    }\n",
       "\n",
       "    var fmt_picker = document.createElement('select');\n",
       "    fmt_picker.classList = 'mpl-widget';\n",
       "    toolbar.appendChild(fmt_picker);\n",
       "    this.format_dropdown = fmt_picker;\n",
       "\n",
       "    for (var ind in mpl.extensions) {\n",
       "        var fmt = mpl.extensions[ind];\n",
       "        var option = document.createElement('option');\n",
       "        option.selected = fmt === mpl.default_extension;\n",
       "        option.innerHTML = fmt;\n",
       "        fmt_picker.appendChild(option);\n",
       "    }\n",
       "\n",
       "    var status_bar = document.createElement('span');\n",
       "    status_bar.classList = 'mpl-message';\n",
       "    toolbar.appendChild(status_bar);\n",
       "    this.message = status_bar;\n",
       "};\n",
       "\n",
       "mpl.figure.prototype.request_resize = function (x_pixels, y_pixels) {\n",
       "    // Request matplotlib to resize the figure. Matplotlib will then trigger a resize in the client,\n",
       "    // which will in turn request a refresh of the image.\n",
       "    this.send_message('resize', { width: x_pixels, height: y_pixels });\n",
       "};\n",
       "\n",
       "mpl.figure.prototype.send_message = function (type, properties) {\n",
       "    properties['type'] = type;\n",
       "    properties['figure_id'] = this.id;\n",
       "    this.ws.send(JSON.stringify(properties));\n",
       "};\n",
       "\n",
       "mpl.figure.prototype.send_draw_message = function () {\n",
       "    if (!this.waiting) {\n",
       "        this.waiting = true;\n",
       "        this.ws.send(JSON.stringify({ type: 'draw', figure_id: this.id }));\n",
       "    }\n",
       "};\n",
       "\n",
       "mpl.figure.prototype.handle_save = function (fig, _msg) {\n",
       "    var format_dropdown = fig.format_dropdown;\n",
       "    var format = format_dropdown.options[format_dropdown.selectedIndex].value;\n",
       "    fig.ondownload(fig, format);\n",
       "};\n",
       "\n",
       "mpl.figure.prototype.handle_resize = function (fig, msg) {\n",
       "    var size = msg['size'];\n",
       "    if (size[0] !== fig.canvas.width || size[1] !== fig.canvas.height) {\n",
       "        fig._resize_canvas(size[0], size[1], msg['forward']);\n",
       "        fig.send_message('refresh', {});\n",
       "    }\n",
       "};\n",
       "\n",
       "mpl.figure.prototype.handle_rubberband = function (fig, msg) {\n",
       "    var x0 = msg['x0'] / mpl.ratio;\n",
       "    var y0 = (fig.canvas.height - msg['y0']) / mpl.ratio;\n",
       "    var x1 = msg['x1'] / mpl.ratio;\n",
       "    var y1 = (fig.canvas.height - msg['y1']) / mpl.ratio;\n",
       "    x0 = Math.floor(x0) + 0.5;\n",
       "    y0 = Math.floor(y0) + 0.5;\n",
       "    x1 = Math.floor(x1) + 0.5;\n",
       "    y1 = Math.floor(y1) + 0.5;\n",
       "    var min_x = Math.min(x0, x1);\n",
       "    var min_y = Math.min(y0, y1);\n",
       "    var width = Math.abs(x1 - x0);\n",
       "    var height = Math.abs(y1 - y0);\n",
       "\n",
       "    fig.rubberband_context.clearRect(\n",
       "        0,\n",
       "        0,\n",
       "        fig.canvas.width / mpl.ratio,\n",
       "        fig.canvas.height / mpl.ratio\n",
       "    );\n",
       "\n",
       "    fig.rubberband_context.strokeRect(min_x, min_y, width, height);\n",
       "};\n",
       "\n",
       "mpl.figure.prototype.handle_figure_label = function (fig, msg) {\n",
       "    // Updates the figure title.\n",
       "    fig.header.textContent = msg['label'];\n",
       "};\n",
       "\n",
       "mpl.figure.prototype.handle_cursor = function (fig, msg) {\n",
       "    var cursor = msg['cursor'];\n",
       "    switch (cursor) {\n",
       "        case 0:\n",
       "            cursor = 'pointer';\n",
       "            break;\n",
       "        case 1:\n",
       "            cursor = 'default';\n",
       "            break;\n",
       "        case 2:\n",
       "            cursor = 'crosshair';\n",
       "            break;\n",
       "        case 3:\n",
       "            cursor = 'move';\n",
       "            break;\n",
       "    }\n",
       "    fig.rubberband_canvas.style.cursor = cursor;\n",
       "};\n",
       "\n",
       "mpl.figure.prototype.handle_message = function (fig, msg) {\n",
       "    fig.message.textContent = msg['message'];\n",
       "};\n",
       "\n",
       "mpl.figure.prototype.handle_draw = function (fig, _msg) {\n",
       "    // Request the server to send over a new figure.\n",
       "    fig.send_draw_message();\n",
       "};\n",
       "\n",
       "mpl.figure.prototype.handle_image_mode = function (fig, msg) {\n",
       "    fig.image_mode = msg['mode'];\n",
       "};\n",
       "\n",
       "mpl.figure.prototype.handle_history_buttons = function (fig, msg) {\n",
       "    for (var key in msg) {\n",
       "        if (!(key in fig.buttons)) {\n",
       "            continue;\n",
       "        }\n",
       "        fig.buttons[key].disabled = !msg[key];\n",
       "        fig.buttons[key].setAttribute('aria-disabled', !msg[key]);\n",
       "    }\n",
       "};\n",
       "\n",
       "mpl.figure.prototype.handle_navigate_mode = function (fig, msg) {\n",
       "    if (msg['mode'] === 'PAN') {\n",
       "        fig.buttons['Pan'].classList.add('active');\n",
       "        fig.buttons['Zoom'].classList.remove('active');\n",
       "    } else if (msg['mode'] === 'ZOOM') {\n",
       "        fig.buttons['Pan'].classList.remove('active');\n",
       "        fig.buttons['Zoom'].classList.add('active');\n",
       "    } else {\n",
       "        fig.buttons['Pan'].classList.remove('active');\n",
       "        fig.buttons['Zoom'].classList.remove('active');\n",
       "    }\n",
       "};\n",
       "\n",
       "mpl.figure.prototype.updated_canvas_event = function () {\n",
       "    // Called whenever the canvas gets updated.\n",
       "    this.send_message('ack', {});\n",
       "};\n",
       "\n",
       "// A function to construct a web socket function for onmessage handling.\n",
       "// Called in the figure constructor.\n",
       "mpl.figure.prototype._make_on_message_function = function (fig) {\n",
       "    return function socket_on_message(evt) {\n",
       "        if (evt.data instanceof Blob) {\n",
       "            /* FIXME: We get \"Resource interpreted as Image but\n",
       "             * transferred with MIME type text/plain:\" errors on\n",
       "             * Chrome.  But how to set the MIME type?  It doesn't seem\n",
       "             * to be part of the websocket stream */\n",
       "            evt.data.type = 'image/png';\n",
       "\n",
       "            /* Free the memory for the previous frames */\n",
       "            if (fig.imageObj.src) {\n",
       "                (window.URL || window.webkitURL).revokeObjectURL(\n",
       "                    fig.imageObj.src\n",
       "                );\n",
       "            }\n",
       "\n",
       "            fig.imageObj.src = (window.URL || window.webkitURL).createObjectURL(\n",
       "                evt.data\n",
       "            );\n",
       "            fig.updated_canvas_event();\n",
       "            fig.waiting = false;\n",
       "            return;\n",
       "        } else if (\n",
       "            typeof evt.data === 'string' &&\n",
       "            evt.data.slice(0, 21) === 'data:image/png;base64'\n",
       "        ) {\n",
       "            fig.imageObj.src = evt.data;\n",
       "            fig.updated_canvas_event();\n",
       "            fig.waiting = false;\n",
       "            return;\n",
       "        }\n",
       "\n",
       "        var msg = JSON.parse(evt.data);\n",
       "        var msg_type = msg['type'];\n",
       "\n",
       "        // Call the  \"handle_{type}\" callback, which takes\n",
       "        // the figure and JSON message as its only arguments.\n",
       "        try {\n",
       "            var callback = fig['handle_' + msg_type];\n",
       "        } catch (e) {\n",
       "            console.log(\n",
       "                \"No handler for the '\" + msg_type + \"' message type: \",\n",
       "                msg\n",
       "            );\n",
       "            return;\n",
       "        }\n",
       "\n",
       "        if (callback) {\n",
       "            try {\n",
       "                // console.log(\"Handling '\" + msg_type + \"' message: \", msg);\n",
       "                callback(fig, msg);\n",
       "            } catch (e) {\n",
       "                console.log(\n",
       "                    \"Exception inside the 'handler_\" + msg_type + \"' callback:\",\n",
       "                    e,\n",
       "                    e.stack,\n",
       "                    msg\n",
       "                );\n",
       "            }\n",
       "        }\n",
       "    };\n",
       "};\n",
       "\n",
       "// from http://stackoverflow.com/questions/1114465/getting-mouse-location-in-canvas\n",
       "mpl.findpos = function (e) {\n",
       "    //this section is from http://www.quirksmode.org/js/events_properties.html\n",
       "    var targ;\n",
       "    if (!e) {\n",
       "        e = window.event;\n",
       "    }\n",
       "    if (e.target) {\n",
       "        targ = e.target;\n",
       "    } else if (e.srcElement) {\n",
       "        targ = e.srcElement;\n",
       "    }\n",
       "    if (targ.nodeType === 3) {\n",
       "        // defeat Safari bug\n",
       "        targ = targ.parentNode;\n",
       "    }\n",
       "\n",
       "    // pageX,Y are the mouse positions relative to the document\n",
       "    var boundingRect = targ.getBoundingClientRect();\n",
       "    var x = e.pageX - (boundingRect.left + document.body.scrollLeft);\n",
       "    var y = e.pageY - (boundingRect.top + document.body.scrollTop);\n",
       "\n",
       "    return { x: x, y: y };\n",
       "};\n",
       "\n",
       "/*\n",
       " * return a copy of an object with only non-object keys\n",
       " * we need this to avoid circular references\n",
       " * http://stackoverflow.com/a/24161582/3208463\n",
       " */\n",
       "function simpleKeys(original) {\n",
       "    return Object.keys(original).reduce(function (obj, key) {\n",
       "        if (typeof original[key] !== 'object') {\n",
       "            obj[key] = original[key];\n",
       "        }\n",
       "        return obj;\n",
       "    }, {});\n",
       "}\n",
       "\n",
       "mpl.figure.prototype.mouse_event = function (event, name) {\n",
       "    var canvas_pos = mpl.findpos(event);\n",
       "\n",
       "    if (name === 'button_press') {\n",
       "        this.canvas.focus();\n",
       "        this.canvas_div.focus();\n",
       "    }\n",
       "\n",
       "    var x = canvas_pos.x * mpl.ratio;\n",
       "    var y = canvas_pos.y * mpl.ratio;\n",
       "\n",
       "    this.send_message(name, {\n",
       "        x: x,\n",
       "        y: y,\n",
       "        button: event.button,\n",
       "        step: event.step,\n",
       "        guiEvent: simpleKeys(event),\n",
       "    });\n",
       "\n",
       "    /* This prevents the web browser from automatically changing to\n",
       "     * the text insertion cursor when the button is pressed.  We want\n",
       "     * to control all of the cursor setting manually through the\n",
       "     * 'cursor' event from matplotlib */\n",
       "    event.preventDefault();\n",
       "    return false;\n",
       "};\n",
       "\n",
       "mpl.figure.prototype._key_event_extra = function (_event, _name) {\n",
       "    // Handle any extra behaviour associated with a key event\n",
       "};\n",
       "\n",
       "mpl.figure.prototype.key_event = function (event, name) {\n",
       "    // Prevent repeat events\n",
       "    if (name === 'key_press') {\n",
       "        if (event.which === this._key) {\n",
       "            return;\n",
       "        } else {\n",
       "            this._key = event.which;\n",
       "        }\n",
       "    }\n",
       "    if (name === 'key_release') {\n",
       "        this._key = null;\n",
       "    }\n",
       "\n",
       "    var value = '';\n",
       "    if (event.ctrlKey && event.which !== 17) {\n",
       "        value += 'ctrl+';\n",
       "    }\n",
       "    if (event.altKey && event.which !== 18) {\n",
       "        value += 'alt+';\n",
       "    }\n",
       "    if (event.shiftKey && event.which !== 16) {\n",
       "        value += 'shift+';\n",
       "    }\n",
       "\n",
       "    value += 'k';\n",
       "    value += event.which.toString();\n",
       "\n",
       "    this._key_event_extra(event, name);\n",
       "\n",
       "    this.send_message(name, { key: value, guiEvent: simpleKeys(event) });\n",
       "    return false;\n",
       "};\n",
       "\n",
       "mpl.figure.prototype.toolbar_button_onclick = function (name) {\n",
       "    if (name === 'download') {\n",
       "        this.handle_save(this, null);\n",
       "    } else {\n",
       "        this.send_message('toolbar_button', { name: name });\n",
       "    }\n",
       "};\n",
       "\n",
       "mpl.figure.prototype.toolbar_button_onmouseover = function (tooltip) {\n",
       "    this.message.textContent = tooltip;\n",
       "};\n",
       "mpl.toolbar_items = [[\"Home\", \"Reset original view\", \"fa fa-home icon-home\", \"home\"], [\"Back\", \"Back to previous view\", \"fa fa-arrow-left icon-arrow-left\", \"back\"], [\"Forward\", \"Forward to next view\", \"fa fa-arrow-right icon-arrow-right\", \"forward\"], [\"\", \"\", \"\", \"\"], [\"Pan\", \"Left button pans, Right button zooms\\nx/y fixes axis, CTRL fixes aspect\", \"fa fa-arrows icon-move\", \"pan\"], [\"Zoom\", \"Zoom to rectangle\\nx/y fixes axis, CTRL fixes aspect\", \"fa fa-square-o icon-check-empty\", \"zoom\"], [\"\", \"\", \"\", \"\"], [\"Download\", \"Download plot\", \"fa fa-floppy-o icon-save\", \"download\"]];\n",
       "\n",
       "mpl.extensions = [\"eps\", \"jpeg\", \"pdf\", \"png\", \"ps\", \"raw\", \"svg\", \"tif\"];\n",
       "\n",
       "mpl.default_extension = \"png\";/* global mpl */\n",
       "\n",
       "var comm_websocket_adapter = function (comm) {\n",
       "    // Create a \"websocket\"-like object which calls the given IPython comm\n",
       "    // object with the appropriate methods. Currently this is a non binary\n",
       "    // socket, so there is still some room for performance tuning.\n",
       "    var ws = {};\n",
       "\n",
       "    ws.close = function () {\n",
       "        comm.close();\n",
       "    };\n",
       "    ws.send = function (m) {\n",
       "        //console.log('sending', m);\n",
       "        comm.send(m);\n",
       "    };\n",
       "    // Register the callback with on_msg.\n",
       "    comm.on_msg(function (msg) {\n",
       "        //console.log('receiving', msg['content']['data'], msg);\n",
       "        // Pass the mpl event to the overridden (by mpl) onmessage function.\n",
       "        ws.onmessage(msg['content']['data']);\n",
       "    });\n",
       "    return ws;\n",
       "};\n",
       "\n",
       "mpl.mpl_figure_comm = function (comm, msg) {\n",
       "    // This is the function which gets called when the mpl process\n",
       "    // starts-up an IPython Comm through the \"matplotlib\" channel.\n",
       "\n",
       "    var id = msg.content.data.id;\n",
       "    // Get hold of the div created by the display call when the Comm\n",
       "    // socket was opened in Python.\n",
       "    var element = document.getElementById(id);\n",
       "    var ws_proxy = comm_websocket_adapter(comm);\n",
       "\n",
       "    function ondownload(figure, _format) {\n",
       "        window.open(figure.canvas.toDataURL());\n",
       "    }\n",
       "\n",
       "    var fig = new mpl.figure(id, ws_proxy, ondownload, element);\n",
       "\n",
       "    // Call onopen now - mpl needs it, as it is assuming we've passed it a real\n",
       "    // web socket which is closed, not our websocket->open comm proxy.\n",
       "    ws_proxy.onopen();\n",
       "\n",
       "    fig.parent_element = element;\n",
       "    fig.cell_info = mpl.find_output_cell(\"<div id='\" + id + \"'></div>\");\n",
       "    if (!fig.cell_info) {\n",
       "        console.error('Failed to find cell for figure', id, fig);\n",
       "        return;\n",
       "    }\n",
       "};\n",
       "\n",
       "mpl.figure.prototype.handle_close = function (fig, msg) {\n",
       "    var width = fig.canvas.width / mpl.ratio;\n",
       "    fig.root.removeEventListener('remove', this._remove_fig_handler);\n",
       "\n",
       "    // Update the output cell to use the data from the current canvas.\n",
       "    fig.push_to_output();\n",
       "    var dataURL = fig.canvas.toDataURL();\n",
       "    // Re-enable the keyboard manager in IPython - without this line, in FF,\n",
       "    // the notebook keyboard shortcuts fail.\n",
       "    IPython.keyboard_manager.enable();\n",
       "    fig.parent_element.innerHTML =\n",
       "        '<img src=\"' + dataURL + '\" width=\"' + width + '\">';\n",
       "    fig.close_ws(fig, msg);\n",
       "};\n",
       "\n",
       "mpl.figure.prototype.close_ws = function (fig, msg) {\n",
       "    fig.send_message('closing', msg);\n",
       "    // fig.ws.close()\n",
       "};\n",
       "\n",
       "mpl.figure.prototype.push_to_output = function (_remove_interactive) {\n",
       "    // Turn the data on the canvas into data in the output cell.\n",
       "    var width = this.canvas.width / mpl.ratio;\n",
       "    var dataURL = this.canvas.toDataURL();\n",
       "    this.cell_info[1]['text/html'] =\n",
       "        '<img src=\"' + dataURL + '\" width=\"' + width + '\">';\n",
       "};\n",
       "\n",
       "mpl.figure.prototype.updated_canvas_event = function () {\n",
       "    // Tell IPython that the notebook contents must change.\n",
       "    IPython.notebook.set_dirty(true);\n",
       "    this.send_message('ack', {});\n",
       "    var fig = this;\n",
       "    // Wait a second, then push the new image to the DOM so\n",
       "    // that it is saved nicely (might be nice to debounce this).\n",
       "    setTimeout(function () {\n",
       "        fig.push_to_output();\n",
       "    }, 1000);\n",
       "};\n",
       "\n",
       "mpl.figure.prototype._init_toolbar = function () {\n",
       "    var fig = this;\n",
       "\n",
       "    var toolbar = document.createElement('div');\n",
       "    toolbar.classList = 'btn-toolbar';\n",
       "    this.root.appendChild(toolbar);\n",
       "\n",
       "    function on_click_closure(name) {\n",
       "        return function (_event) {\n",
       "            return fig.toolbar_button_onclick(name);\n",
       "        };\n",
       "    }\n",
       "\n",
       "    function on_mouseover_closure(tooltip) {\n",
       "        return function (event) {\n",
       "            if (!event.currentTarget.disabled) {\n",
       "                return fig.toolbar_button_onmouseover(tooltip);\n",
       "            }\n",
       "        };\n",
       "    }\n",
       "\n",
       "    fig.buttons = {};\n",
       "    var buttonGroup = document.createElement('div');\n",
       "    buttonGroup.classList = 'btn-group';\n",
       "    var button;\n",
       "    for (var toolbar_ind in mpl.toolbar_items) {\n",
       "        var name = mpl.toolbar_items[toolbar_ind][0];\n",
       "        var tooltip = mpl.toolbar_items[toolbar_ind][1];\n",
       "        var image = mpl.toolbar_items[toolbar_ind][2];\n",
       "        var method_name = mpl.toolbar_items[toolbar_ind][3];\n",
       "\n",
       "        if (!name) {\n",
       "            /* Instead of a spacer, we start a new button group. */\n",
       "            if (buttonGroup.hasChildNodes()) {\n",
       "                toolbar.appendChild(buttonGroup);\n",
       "            }\n",
       "            buttonGroup = document.createElement('div');\n",
       "            buttonGroup.classList = 'btn-group';\n",
       "            continue;\n",
       "        }\n",
       "\n",
       "        button = fig.buttons[name] = document.createElement('button');\n",
       "        button.classList = 'btn btn-default';\n",
       "        button.href = '#';\n",
       "        button.title = name;\n",
       "        button.innerHTML = '<i class=\"fa ' + image + ' fa-lg\"></i>';\n",
       "        button.addEventListener('click', on_click_closure(method_name));\n",
       "        button.addEventListener('mouseover', on_mouseover_closure(tooltip));\n",
       "        buttonGroup.appendChild(button);\n",
       "    }\n",
       "\n",
       "    if (buttonGroup.hasChildNodes()) {\n",
       "        toolbar.appendChild(buttonGroup);\n",
       "    }\n",
       "\n",
       "    // Add the status bar.\n",
       "    var status_bar = document.createElement('span');\n",
       "    status_bar.classList = 'mpl-message pull-right';\n",
       "    toolbar.appendChild(status_bar);\n",
       "    this.message = status_bar;\n",
       "\n",
       "    // Add the close button to the window.\n",
       "    var buttongrp = document.createElement('div');\n",
       "    buttongrp.classList = 'btn-group inline pull-right';\n",
       "    button = document.createElement('button');\n",
       "    button.classList = 'btn btn-mini btn-primary';\n",
       "    button.href = '#';\n",
       "    button.title = 'Stop Interaction';\n",
       "    button.innerHTML = '<i class=\"fa fa-power-off icon-remove icon-large\"></i>';\n",
       "    button.addEventListener('click', function (_evt) {\n",
       "        fig.handle_close(fig, {});\n",
       "    });\n",
       "    button.addEventListener(\n",
       "        'mouseover',\n",
       "        on_mouseover_closure('Stop Interaction')\n",
       "    );\n",
       "    buttongrp.appendChild(button);\n",
       "    var titlebar = this.root.querySelector('.ui-dialog-titlebar');\n",
       "    titlebar.insertBefore(buttongrp, titlebar.firstChild);\n",
       "};\n",
       "\n",
       "mpl.figure.prototype._remove_fig_handler = function () {\n",
       "    this.close_ws(this, {});\n",
       "};\n",
       "\n",
       "mpl.figure.prototype._root_extra_style = function (el) {\n",
       "    el.style.boxSizing = 'content-box'; // override notebook setting of border-box.\n",
       "    el.addEventListener('remove', this._remove_fig_handler);\n",
       "};\n",
       "\n",
       "mpl.figure.prototype._canvas_extra_style = function (el) {\n",
       "    // this is important to make the div 'focusable\n",
       "    el.setAttribute('tabindex', 0);\n",
       "    // reach out to IPython and tell the keyboard manager to turn it's self\n",
       "    // off when our div gets focus\n",
       "\n",
       "    // location in version 3\n",
       "    if (IPython.notebook.keyboard_manager) {\n",
       "        IPython.notebook.keyboard_manager.register_events(el);\n",
       "    } else {\n",
       "        // location in version 2\n",
       "        IPython.keyboard_manager.register_events(el);\n",
       "    }\n",
       "};\n",
       "\n",
       "mpl.figure.prototype._key_event_extra = function (event, _name) {\n",
       "    var manager = IPython.notebook.keyboard_manager;\n",
       "    if (!manager) {\n",
       "        manager = IPython.keyboard_manager;\n",
       "    }\n",
       "\n",
       "    // Check for shift+enter\n",
       "    if (event.shiftKey && event.which === 13) {\n",
       "        this.canvas_div.blur();\n",
       "        // select the cell after this one\n",
       "        var index = IPython.notebook.find_cell_index(this.cell_info[0]);\n",
       "        IPython.notebook.select(index + 1);\n",
       "    }\n",
       "};\n",
       "\n",
       "mpl.figure.prototype.handle_save = function (fig, _msg) {\n",
       "    fig.ondownload(fig, null);\n",
       "};\n",
       "\n",
       "mpl.find_output_cell = function (html_output) {\n",
       "    // Return the cell and output element which can be found *uniquely* in the notebook.\n",
       "    // Note - this is a bit hacky, but it is done because the \"notebook_saving.Notebook\"\n",
       "    // IPython event is triggered only after the cells have been serialised, which for\n",
       "    // our purposes (turning an active figure into a static one), is too late.\n",
       "    var cells = IPython.notebook.get_cells();\n",
       "    var ncells = cells.length;\n",
       "    for (var i = 0; i < ncells; i++) {\n",
       "        var cell = cells[i];\n",
       "        if (cell.cell_type === 'code') {\n",
       "            for (var j = 0; j < cell.output_area.outputs.length; j++) {\n",
       "                var data = cell.output_area.outputs[j];\n",
       "                if (data.data) {\n",
       "                    // IPython >= 3 moved mimebundle to data attribute of output\n",
       "                    data = data.data;\n",
       "                }\n",
       "                if (data['text/html'] === html_output) {\n",
       "                    return [cell, data, j];\n",
       "                }\n",
       "            }\n",
       "        }\n",
       "    }\n",
       "};\n",
       "\n",
       "// Register the function which deals with the matplotlib target/channel.\n",
       "// The kernel may be null if the page has been refreshed.\n",
       "if (IPython.notebook.kernel !== null) {\n",
       "    IPython.notebook.kernel.comm_manager.register_target(\n",
       "        'matplotlib',\n",
       "        mpl.mpl_figure_comm\n",
       "    );\n",
       "}\n"
      ],
      "text/plain": [
       "<IPython.core.display.Javascript object>"
      ]
     },
     "metadata": {},
     "output_type": "display_data"
    },
    {
     "data": {
      "text/html": [
       "<img src=\"data:image/png;base64,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\" width=\"NaN\">"
      ],
      "text/plain": [
       "<IPython.core.display.HTML object>"
      ]
     },
     "metadata": {},
     "output_type": "display_data"
    },
    {
     "data": {
      "application/javascript": [
       "/* Put everything inside the global mpl namespace */\n",
       "/* global mpl */\n",
       "window.mpl = {};\n",
       "\n",
       "mpl.get_websocket_type = function () {\n",
       "    if (typeof WebSocket !== 'undefined') {\n",
       "        return WebSocket;\n",
       "    } else if (typeof MozWebSocket !== 'undefined') {\n",
       "        return MozWebSocket;\n",
       "    } else {\n",
       "        alert(\n",
       "            'Your browser does not have WebSocket support. ' +\n",
       "                'Please try Chrome, Safari or Firefox ≥ 6. ' +\n",
       "                'Firefox 4 and 5 are also supported but you ' +\n",
       "                'have to enable WebSockets in about:config.'\n",
       "        );\n",
       "    }\n",
       "};\n",
       "\n",
       "mpl.figure = function (figure_id, websocket, ondownload, parent_element) {\n",
       "    this.id = figure_id;\n",
       "\n",
       "    this.ws = websocket;\n",
       "\n",
       "    this.supports_binary = this.ws.binaryType !== undefined;\n",
       "\n",
       "    if (!this.supports_binary) {\n",
       "        var warnings = document.getElementById('mpl-warnings');\n",
       "        if (warnings) {\n",
       "            warnings.style.display = 'block';\n",
       "            warnings.textContent =\n",
       "                'This browser does not support binary websocket messages. ' +\n",
       "                'Performance may be slow.';\n",
       "        }\n",
       "    }\n",
       "\n",
       "    this.imageObj = new Image();\n",
       "\n",
       "    this.context = undefined;\n",
       "    this.message = undefined;\n",
       "    this.canvas = undefined;\n",
       "    this.rubberband_canvas = undefined;\n",
       "    this.rubberband_context = undefined;\n",
       "    this.format_dropdown = undefined;\n",
       "\n",
       "    this.image_mode = 'full';\n",
       "\n",
       "    this.root = document.createElement('div');\n",
       "    this.root.setAttribute('style', 'display: inline-block');\n",
       "    this._root_extra_style(this.root);\n",
       "\n",
       "    parent_element.appendChild(this.root);\n",
       "\n",
       "    this._init_header(this);\n",
       "    this._init_canvas(this);\n",
       "    this._init_toolbar(this);\n",
       "\n",
       "    var fig = this;\n",
       "\n",
       "    this.waiting = false;\n",
       "\n",
       "    this.ws.onopen = function () {\n",
       "        fig.send_message('supports_binary', { value: fig.supports_binary });\n",
       "        fig.send_message('send_image_mode', {});\n",
       "        if (mpl.ratio !== 1) {\n",
       "            fig.send_message('set_dpi_ratio', { dpi_ratio: mpl.ratio });\n",
       "        }\n",
       "        fig.send_message('refresh', {});\n",
       "    };\n",
       "\n",
       "    this.imageObj.onload = function () {\n",
       "        if (fig.image_mode === 'full') {\n",
       "            // Full images could contain transparency (where diff images\n",
       "            // almost always do), so we need to clear the canvas so that\n",
       "            // there is no ghosting.\n",
       "            fig.context.clearRect(0, 0, fig.canvas.width, fig.canvas.height);\n",
       "        }\n",
       "        fig.context.drawImage(fig.imageObj, 0, 0);\n",
       "    };\n",
       "\n",
       "    this.imageObj.onunload = function () {\n",
       "        fig.ws.close();\n",
       "    };\n",
       "\n",
       "    this.ws.onmessage = this._make_on_message_function(this);\n",
       "\n",
       "    this.ondownload = ondownload;\n",
       "};\n",
       "\n",
       "mpl.figure.prototype._init_header = function () {\n",
       "    var titlebar = document.createElement('div');\n",
       "    titlebar.classList =\n",
       "        'ui-dialog-titlebar ui-widget-header ui-corner-all ui-helper-clearfix';\n",
       "    var titletext = document.createElement('div');\n",
       "    titletext.classList = 'ui-dialog-title';\n",
       "    titletext.setAttribute(\n",
       "        'style',\n",
       "        'width: 100%; text-align: center; padding: 3px;'\n",
       "    );\n",
       "    titlebar.appendChild(titletext);\n",
       "    this.root.appendChild(titlebar);\n",
       "    this.header = titletext;\n",
       "};\n",
       "\n",
       "mpl.figure.prototype._canvas_extra_style = function (_canvas_div) {};\n",
       "\n",
       "mpl.figure.prototype._root_extra_style = function (_canvas_div) {};\n",
       "\n",
       "mpl.figure.prototype._init_canvas = function () {\n",
       "    var fig = this;\n",
       "\n",
       "    var canvas_div = (this.canvas_div = document.createElement('div'));\n",
       "    canvas_div.setAttribute(\n",
       "        'style',\n",
       "        'border: 1px solid #ddd;' +\n",
       "            'box-sizing: content-box;' +\n",
       "            'clear: both;' +\n",
       "            'min-height: 1px;' +\n",
       "            'min-width: 1px;' +\n",
       "            'outline: 0;' +\n",
       "            'overflow: hidden;' +\n",
       "            'position: relative;' +\n",
       "            'resize: both;'\n",
       "    );\n",
       "\n",
       "    function on_keyboard_event_closure(name) {\n",
       "        return function (event) {\n",
       "            return fig.key_event(event, name);\n",
       "        };\n",
       "    }\n",
       "\n",
       "    canvas_div.addEventListener(\n",
       "        'keydown',\n",
       "        on_keyboard_event_closure('key_press')\n",
       "    );\n",
       "    canvas_div.addEventListener(\n",
       "        'keyup',\n",
       "        on_keyboard_event_closure('key_release')\n",
       "    );\n",
       "\n",
       "    this._canvas_extra_style(canvas_div);\n",
       "    this.root.appendChild(canvas_div);\n",
       "\n",
       "    var canvas = (this.canvas = document.createElement('canvas'));\n",
       "    canvas.classList.add('mpl-canvas');\n",
       "    canvas.setAttribute('style', 'box-sizing: content-box;');\n",
       "\n",
       "    this.context = canvas.getContext('2d');\n",
       "\n",
       "    var backingStore =\n",
       "        this.context.backingStorePixelRatio ||\n",
       "        this.context.webkitBackingStorePixelRatio ||\n",
       "        this.context.mozBackingStorePixelRatio ||\n",
       "        this.context.msBackingStorePixelRatio ||\n",
       "        this.context.oBackingStorePixelRatio ||\n",
       "        this.context.backingStorePixelRatio ||\n",
       "        1;\n",
       "\n",
       "    mpl.ratio = (window.devicePixelRatio || 1) / backingStore;\n",
       "\n",
       "    var rubberband_canvas = (this.rubberband_canvas = document.createElement(\n",
       "        'canvas'\n",
       "    ));\n",
       "    rubberband_canvas.setAttribute(\n",
       "        'style',\n",
       "        'box-sizing: content-box; position: absolute; left: 0; top: 0; z-index: 1;'\n",
       "    );\n",
       "\n",
       "    var resizeObserver = new ResizeObserver(function (entries) {\n",
       "        var nentries = entries.length;\n",
       "        for (var i = 0; i < nentries; i++) {\n",
       "            var entry = entries[i];\n",
       "            var width, height;\n",
       "            if (entry.contentBoxSize) {\n",
       "                if (entry.contentBoxSize instanceof Array) {\n",
       "                    // Chrome 84 implements new version of spec.\n",
       "                    width = entry.contentBoxSize[0].inlineSize;\n",
       "                    height = entry.contentBoxSize[0].blockSize;\n",
       "                } else {\n",
       "                    // Firefox implements old version of spec.\n",
       "                    width = entry.contentBoxSize.inlineSize;\n",
       "                    height = entry.contentBoxSize.blockSize;\n",
       "                }\n",
       "            } else {\n",
       "                // Chrome <84 implements even older version of spec.\n",
       "                width = entry.contentRect.width;\n",
       "                height = entry.contentRect.height;\n",
       "            }\n",
       "\n",
       "            // Keep the size of the canvas and rubber band canvas in sync with\n",
       "            // the canvas container.\n",
       "            if (entry.devicePixelContentBoxSize) {\n",
       "                // Chrome 84 implements new version of spec.\n",
       "                canvas.setAttribute(\n",
       "                    'width',\n",
       "                    entry.devicePixelContentBoxSize[0].inlineSize\n",
       "                );\n",
       "                canvas.setAttribute(\n",
       "                    'height',\n",
       "                    entry.devicePixelContentBoxSize[0].blockSize\n",
       "                );\n",
       "            } else {\n",
       "                canvas.setAttribute('width', width * mpl.ratio);\n",
       "                canvas.setAttribute('height', height * mpl.ratio);\n",
       "            }\n",
       "            canvas.setAttribute(\n",
       "                'style',\n",
       "                'width: ' + width + 'px; height: ' + height + 'px;'\n",
       "            );\n",
       "\n",
       "            rubberband_canvas.setAttribute('width', width);\n",
       "            rubberband_canvas.setAttribute('height', height);\n",
       "\n",
       "            // And update the size in Python. We ignore the initial 0/0 size\n",
       "            // that occurs as the element is placed into the DOM, which should\n",
       "            // otherwise not happen due to the minimum size styling.\n",
       "            if (width != 0 && height != 0) {\n",
       "                fig.request_resize(width, height);\n",
       "            }\n",
       "        }\n",
       "    });\n",
       "    resizeObserver.observe(canvas_div);\n",
       "\n",
       "    function on_mouse_event_closure(name) {\n",
       "        return function (event) {\n",
       "            return fig.mouse_event(event, name);\n",
       "        };\n",
       "    }\n",
       "\n",
       "    rubberband_canvas.addEventListener(\n",
       "        'mousedown',\n",
       "        on_mouse_event_closure('button_press')\n",
       "    );\n",
       "    rubberband_canvas.addEventListener(\n",
       "        'mouseup',\n",
       "        on_mouse_event_closure('button_release')\n",
       "    );\n",
       "    // Throttle sequential mouse events to 1 every 20ms.\n",
       "    rubberband_canvas.addEventListener(\n",
       "        'mousemove',\n",
       "        on_mouse_event_closure('motion_notify')\n",
       "    );\n",
       "\n",
       "    rubberband_canvas.addEventListener(\n",
       "        'mouseenter',\n",
       "        on_mouse_event_closure('figure_enter')\n",
       "    );\n",
       "    rubberband_canvas.addEventListener(\n",
       "        'mouseleave',\n",
       "        on_mouse_event_closure('figure_leave')\n",
       "    );\n",
       "\n",
       "    canvas_div.addEventListener('wheel', function (event) {\n",
       "        if (event.deltaY < 0) {\n",
       "            event.step = 1;\n",
       "        } else {\n",
       "            event.step = -1;\n",
       "        }\n",
       "        on_mouse_event_closure('scroll')(event);\n",
       "    });\n",
       "\n",
       "    canvas_div.appendChild(canvas);\n",
       "    canvas_div.appendChild(rubberband_canvas);\n",
       "\n",
       "    this.rubberband_context = rubberband_canvas.getContext('2d');\n",
       "    this.rubberband_context.strokeStyle = '#000000';\n",
       "\n",
       "    this._resize_canvas = function (width, height, forward) {\n",
       "        if (forward) {\n",
       "            canvas_div.style.width = width + 'px';\n",
       "            canvas_div.style.height = height + 'px';\n",
       "        }\n",
       "    };\n",
       "\n",
       "    // Disable right mouse context menu.\n",
       "    this.rubberband_canvas.addEventListener('contextmenu', function (_e) {\n",
       "        event.preventDefault();\n",
       "        return false;\n",
       "    });\n",
       "\n",
       "    function set_focus() {\n",
       "        canvas.focus();\n",
       "        canvas_div.focus();\n",
       "    }\n",
       "\n",
       "    window.setTimeout(set_focus, 100);\n",
       "};\n",
       "\n",
       "mpl.figure.prototype._init_toolbar = function () {\n",
       "    var fig = this;\n",
       "\n",
       "    var toolbar = document.createElement('div');\n",
       "    toolbar.classList = 'mpl-toolbar';\n",
       "    this.root.appendChild(toolbar);\n",
       "\n",
       "    function on_click_closure(name) {\n",
       "        return function (_event) {\n",
       "            return fig.toolbar_button_onclick(name);\n",
       "        };\n",
       "    }\n",
       "\n",
       "    function on_mouseover_closure(tooltip) {\n",
       "        return function (event) {\n",
       "            if (!event.currentTarget.disabled) {\n",
       "                return fig.toolbar_button_onmouseover(tooltip);\n",
       "            }\n",
       "        };\n",
       "    }\n",
       "\n",
       "    fig.buttons = {};\n",
       "    var buttonGroup = document.createElement('div');\n",
       "    buttonGroup.classList = 'mpl-button-group';\n",
       "    for (var toolbar_ind in mpl.toolbar_items) {\n",
       "        var name = mpl.toolbar_items[toolbar_ind][0];\n",
       "        var tooltip = mpl.toolbar_items[toolbar_ind][1];\n",
       "        var image = mpl.toolbar_items[toolbar_ind][2];\n",
       "        var method_name = mpl.toolbar_items[toolbar_ind][3];\n",
       "\n",
       "        if (!name) {\n",
       "            /* Instead of a spacer, we start a new button group. */\n",
       "            if (buttonGroup.hasChildNodes()) {\n",
       "                toolbar.appendChild(buttonGroup);\n",
       "            }\n",
       "            buttonGroup = document.createElement('div');\n",
       "            buttonGroup.classList = 'mpl-button-group';\n",
       "            continue;\n",
       "        }\n",
       "\n",
       "        var button = (fig.buttons[name] = document.createElement('button'));\n",
       "        button.classList = 'mpl-widget';\n",
       "        button.setAttribute('role', 'button');\n",
       "        button.setAttribute('aria-disabled', 'false');\n",
       "        button.addEventListener('click', on_click_closure(method_name));\n",
       "        button.addEventListener('mouseover', on_mouseover_closure(tooltip));\n",
       "\n",
       "        var icon_img = document.createElement('img');\n",
       "        icon_img.src = '_images/' + image + '.png';\n",
       "        icon_img.srcset = '_images/' + image + '_large.png 2x';\n",
       "        icon_img.alt = tooltip;\n",
       "        button.appendChild(icon_img);\n",
       "\n",
       "        buttonGroup.appendChild(button);\n",
       "    }\n",
       "\n",
       "    if (buttonGroup.hasChildNodes()) {\n",
       "        toolbar.appendChild(buttonGroup);\n",
       "    }\n",
       "\n",
       "    var fmt_picker = document.createElement('select');\n",
       "    fmt_picker.classList = 'mpl-widget';\n",
       "    toolbar.appendChild(fmt_picker);\n",
       "    this.format_dropdown = fmt_picker;\n",
       "\n",
       "    for (var ind in mpl.extensions) {\n",
       "        var fmt = mpl.extensions[ind];\n",
       "        var option = document.createElement('option');\n",
       "        option.selected = fmt === mpl.default_extension;\n",
       "        option.innerHTML = fmt;\n",
       "        fmt_picker.appendChild(option);\n",
       "    }\n",
       "\n",
       "    var status_bar = document.createElement('span');\n",
       "    status_bar.classList = 'mpl-message';\n",
       "    toolbar.appendChild(status_bar);\n",
       "    this.message = status_bar;\n",
       "};\n",
       "\n",
       "mpl.figure.prototype.request_resize = function (x_pixels, y_pixels) {\n",
       "    // Request matplotlib to resize the figure. Matplotlib will then trigger a resize in the client,\n",
       "    // which will in turn request a refresh of the image.\n",
       "    this.send_message('resize', { width: x_pixels, height: y_pixels });\n",
       "};\n",
       "\n",
       "mpl.figure.prototype.send_message = function (type, properties) {\n",
       "    properties['type'] = type;\n",
       "    properties['figure_id'] = this.id;\n",
       "    this.ws.send(JSON.stringify(properties));\n",
       "};\n",
       "\n",
       "mpl.figure.prototype.send_draw_message = function () {\n",
       "    if (!this.waiting) {\n",
       "        this.waiting = true;\n",
       "        this.ws.send(JSON.stringify({ type: 'draw', figure_id: this.id }));\n",
       "    }\n",
       "};\n",
       "\n",
       "mpl.figure.prototype.handle_save = function (fig, _msg) {\n",
       "    var format_dropdown = fig.format_dropdown;\n",
       "    var format = format_dropdown.options[format_dropdown.selectedIndex].value;\n",
       "    fig.ondownload(fig, format);\n",
       "};\n",
       "\n",
       "mpl.figure.prototype.handle_resize = function (fig, msg) {\n",
       "    var size = msg['size'];\n",
       "    if (size[0] !== fig.canvas.width || size[1] !== fig.canvas.height) {\n",
       "        fig._resize_canvas(size[0], size[1], msg['forward']);\n",
       "        fig.send_message('refresh', {});\n",
       "    }\n",
       "};\n",
       "\n",
       "mpl.figure.prototype.handle_rubberband = function (fig, msg) {\n",
       "    var x0 = msg['x0'] / mpl.ratio;\n",
       "    var y0 = (fig.canvas.height - msg['y0']) / mpl.ratio;\n",
       "    var x1 = msg['x1'] / mpl.ratio;\n",
       "    var y1 = (fig.canvas.height - msg['y1']) / mpl.ratio;\n",
       "    x0 = Math.floor(x0) + 0.5;\n",
       "    y0 = Math.floor(y0) + 0.5;\n",
       "    x1 = Math.floor(x1) + 0.5;\n",
       "    y1 = Math.floor(y1) + 0.5;\n",
       "    var min_x = Math.min(x0, x1);\n",
       "    var min_y = Math.min(y0, y1);\n",
       "    var width = Math.abs(x1 - x0);\n",
       "    var height = Math.abs(y1 - y0);\n",
       "\n",
       "    fig.rubberband_context.clearRect(\n",
       "        0,\n",
       "        0,\n",
       "        fig.canvas.width / mpl.ratio,\n",
       "        fig.canvas.height / mpl.ratio\n",
       "    );\n",
       "\n",
       "    fig.rubberband_context.strokeRect(min_x, min_y, width, height);\n",
       "};\n",
       "\n",
       "mpl.figure.prototype.handle_figure_label = function (fig, msg) {\n",
       "    // Updates the figure title.\n",
       "    fig.header.textContent = msg['label'];\n",
       "};\n",
       "\n",
       "mpl.figure.prototype.handle_cursor = function (fig, msg) {\n",
       "    var cursor = msg['cursor'];\n",
       "    switch (cursor) {\n",
       "        case 0:\n",
       "            cursor = 'pointer';\n",
       "            break;\n",
       "        case 1:\n",
       "            cursor = 'default';\n",
       "            break;\n",
       "        case 2:\n",
       "            cursor = 'crosshair';\n",
       "            break;\n",
       "        case 3:\n",
       "            cursor = 'move';\n",
       "            break;\n",
       "    }\n",
       "    fig.rubberband_canvas.style.cursor = cursor;\n",
       "};\n",
       "\n",
       "mpl.figure.prototype.handle_message = function (fig, msg) {\n",
       "    fig.message.textContent = msg['message'];\n",
       "};\n",
       "\n",
       "mpl.figure.prototype.handle_draw = function (fig, _msg) {\n",
       "    // Request the server to send over a new figure.\n",
       "    fig.send_draw_message();\n",
       "};\n",
       "\n",
       "mpl.figure.prototype.handle_image_mode = function (fig, msg) {\n",
       "    fig.image_mode = msg['mode'];\n",
       "};\n",
       "\n",
       "mpl.figure.prototype.handle_history_buttons = function (fig, msg) {\n",
       "    for (var key in msg) {\n",
       "        if (!(key in fig.buttons)) {\n",
       "            continue;\n",
       "        }\n",
       "        fig.buttons[key].disabled = !msg[key];\n",
       "        fig.buttons[key].setAttribute('aria-disabled', !msg[key]);\n",
       "    }\n",
       "};\n",
       "\n",
       "mpl.figure.prototype.handle_navigate_mode = function (fig, msg) {\n",
       "    if (msg['mode'] === 'PAN') {\n",
       "        fig.buttons['Pan'].classList.add('active');\n",
       "        fig.buttons['Zoom'].classList.remove('active');\n",
       "    } else if (msg['mode'] === 'ZOOM') {\n",
       "        fig.buttons['Pan'].classList.remove('active');\n",
       "        fig.buttons['Zoom'].classList.add('active');\n",
       "    } else {\n",
       "        fig.buttons['Pan'].classList.remove('active');\n",
       "        fig.buttons['Zoom'].classList.remove('active');\n",
       "    }\n",
       "};\n",
       "\n",
       "mpl.figure.prototype.updated_canvas_event = function () {\n",
       "    // Called whenever the canvas gets updated.\n",
       "    this.send_message('ack', {});\n",
       "};\n",
       "\n",
       "// A function to construct a web socket function for onmessage handling.\n",
       "// Called in the figure constructor.\n",
       "mpl.figure.prototype._make_on_message_function = function (fig) {\n",
       "    return function socket_on_message(evt) {\n",
       "        if (evt.data instanceof Blob) {\n",
       "            /* FIXME: We get \"Resource interpreted as Image but\n",
       "             * transferred with MIME type text/plain:\" errors on\n",
       "             * Chrome.  But how to set the MIME type?  It doesn't seem\n",
       "             * to be part of the websocket stream */\n",
       "            evt.data.type = 'image/png';\n",
       "\n",
       "            /* Free the memory for the previous frames */\n",
       "            if (fig.imageObj.src) {\n",
       "                (window.URL || window.webkitURL).revokeObjectURL(\n",
       "                    fig.imageObj.src\n",
       "                );\n",
       "            }\n",
       "\n",
       "            fig.imageObj.src = (window.URL || window.webkitURL).createObjectURL(\n",
       "                evt.data\n",
       "            );\n",
       "            fig.updated_canvas_event();\n",
       "            fig.waiting = false;\n",
       "            return;\n",
       "        } else if (\n",
       "            typeof evt.data === 'string' &&\n",
       "            evt.data.slice(0, 21) === 'data:image/png;base64'\n",
       "        ) {\n",
       "            fig.imageObj.src = evt.data;\n",
       "            fig.updated_canvas_event();\n",
       "            fig.waiting = false;\n",
       "            return;\n",
       "        }\n",
       "\n",
       "        var msg = JSON.parse(evt.data);\n",
       "        var msg_type = msg['type'];\n",
       "\n",
       "        // Call the  \"handle_{type}\" callback, which takes\n",
       "        // the figure and JSON message as its only arguments.\n",
       "        try {\n",
       "            var callback = fig['handle_' + msg_type];\n",
       "        } catch (e) {\n",
       "            console.log(\n",
       "                \"No handler for the '\" + msg_type + \"' message type: \",\n",
       "                msg\n",
       "            );\n",
       "            return;\n",
       "        }\n",
       "\n",
       "        if (callback) {\n",
       "            try {\n",
       "                // console.log(\"Handling '\" + msg_type + \"' message: \", msg);\n",
       "                callback(fig, msg);\n",
       "            } catch (e) {\n",
       "                console.log(\n",
       "                    \"Exception inside the 'handler_\" + msg_type + \"' callback:\",\n",
       "                    e,\n",
       "                    e.stack,\n",
       "                    msg\n",
       "                );\n",
       "            }\n",
       "        }\n",
       "    };\n",
       "};\n",
       "\n",
       "// from http://stackoverflow.com/questions/1114465/getting-mouse-location-in-canvas\n",
       "mpl.findpos = function (e) {\n",
       "    //this section is from http://www.quirksmode.org/js/events_properties.html\n",
       "    var targ;\n",
       "    if (!e) {\n",
       "        e = window.event;\n",
       "    }\n",
       "    if (e.target) {\n",
       "        targ = e.target;\n",
       "    } else if (e.srcElement) {\n",
       "        targ = e.srcElement;\n",
       "    }\n",
       "    if (targ.nodeType === 3) {\n",
       "        // defeat Safari bug\n",
       "        targ = targ.parentNode;\n",
       "    }\n",
       "\n",
       "    // pageX,Y are the mouse positions relative to the document\n",
       "    var boundingRect = targ.getBoundingClientRect();\n",
       "    var x = e.pageX - (boundingRect.left + document.body.scrollLeft);\n",
       "    var y = e.pageY - (boundingRect.top + document.body.scrollTop);\n",
       "\n",
       "    return { x: x, y: y };\n",
       "};\n",
       "\n",
       "/*\n",
       " * return a copy of an object with only non-object keys\n",
       " * we need this to avoid circular references\n",
       " * http://stackoverflow.com/a/24161582/3208463\n",
       " */\n",
       "function simpleKeys(original) {\n",
       "    return Object.keys(original).reduce(function (obj, key) {\n",
       "        if (typeof original[key] !== 'object') {\n",
       "            obj[key] = original[key];\n",
       "        }\n",
       "        return obj;\n",
       "    }, {});\n",
       "}\n",
       "\n",
       "mpl.figure.prototype.mouse_event = function (event, name) {\n",
       "    var canvas_pos = mpl.findpos(event);\n",
       "\n",
       "    if (name === 'button_press') {\n",
       "        this.canvas.focus();\n",
       "        this.canvas_div.focus();\n",
       "    }\n",
       "\n",
       "    var x = canvas_pos.x * mpl.ratio;\n",
       "    var y = canvas_pos.y * mpl.ratio;\n",
       "\n",
       "    this.send_message(name, {\n",
       "        x: x,\n",
       "        y: y,\n",
       "        button: event.button,\n",
       "        step: event.step,\n",
       "        guiEvent: simpleKeys(event),\n",
       "    });\n",
       "\n",
       "    /* This prevents the web browser from automatically changing to\n",
       "     * the text insertion cursor when the button is pressed.  We want\n",
       "     * to control all of the cursor setting manually through the\n",
       "     * 'cursor' event from matplotlib */\n",
       "    event.preventDefault();\n",
       "    return false;\n",
       "};\n",
       "\n",
       "mpl.figure.prototype._key_event_extra = function (_event, _name) {\n",
       "    // Handle any extra behaviour associated with a key event\n",
       "};\n",
       "\n",
       "mpl.figure.prototype.key_event = function (event, name) {\n",
       "    // Prevent repeat events\n",
       "    if (name === 'key_press') {\n",
       "        if (event.which === this._key) {\n",
       "            return;\n",
       "        } else {\n",
       "            this._key = event.which;\n",
       "        }\n",
       "    }\n",
       "    if (name === 'key_release') {\n",
       "        this._key = null;\n",
       "    }\n",
       "\n",
       "    var value = '';\n",
       "    if (event.ctrlKey && event.which !== 17) {\n",
       "        value += 'ctrl+';\n",
       "    }\n",
       "    if (event.altKey && event.which !== 18) {\n",
       "        value += 'alt+';\n",
       "    }\n",
       "    if (event.shiftKey && event.which !== 16) {\n",
       "        value += 'shift+';\n",
       "    }\n",
       "\n",
       "    value += 'k';\n",
       "    value += event.which.toString();\n",
       "\n",
       "    this._key_event_extra(event, name);\n",
       "\n",
       "    this.send_message(name, { key: value, guiEvent: simpleKeys(event) });\n",
       "    return false;\n",
       "};\n",
       "\n",
       "mpl.figure.prototype.toolbar_button_onclick = function (name) {\n",
       "    if (name === 'download') {\n",
       "        this.handle_save(this, null);\n",
       "    } else {\n",
       "        this.send_message('toolbar_button', { name: name });\n",
       "    }\n",
       "};\n",
       "\n",
       "mpl.figure.prototype.toolbar_button_onmouseover = function (tooltip) {\n",
       "    this.message.textContent = tooltip;\n",
       "};\n",
       "mpl.toolbar_items = [[\"Home\", \"Reset original view\", \"fa fa-home icon-home\", \"home\"], [\"Back\", \"Back to previous view\", \"fa fa-arrow-left icon-arrow-left\", \"back\"], [\"Forward\", \"Forward to next view\", \"fa fa-arrow-right icon-arrow-right\", \"forward\"], [\"\", \"\", \"\", \"\"], [\"Pan\", \"Left button pans, Right button zooms\\nx/y fixes axis, CTRL fixes aspect\", \"fa fa-arrows icon-move\", \"pan\"], [\"Zoom\", \"Zoom to rectangle\\nx/y fixes axis, CTRL fixes aspect\", \"fa fa-square-o icon-check-empty\", \"zoom\"], [\"\", \"\", \"\", \"\"], [\"Download\", \"Download plot\", \"fa fa-floppy-o icon-save\", \"download\"]];\n",
       "\n",
       "mpl.extensions = [\"eps\", \"jpeg\", \"pdf\", \"png\", \"ps\", \"raw\", \"svg\", \"tif\"];\n",
       "\n",
       "mpl.default_extension = \"png\";/* global mpl */\n",
       "\n",
       "var comm_websocket_adapter = function (comm) {\n",
       "    // Create a \"websocket\"-like object which calls the given IPython comm\n",
       "    // object with the appropriate methods. Currently this is a non binary\n",
       "    // socket, so there is still some room for performance tuning.\n",
       "    var ws = {};\n",
       "\n",
       "    ws.close = function () {\n",
       "        comm.close();\n",
       "    };\n",
       "    ws.send = function (m) {\n",
       "        //console.log('sending', m);\n",
       "        comm.send(m);\n",
       "    };\n",
       "    // Register the callback with on_msg.\n",
       "    comm.on_msg(function (msg) {\n",
       "        //console.log('receiving', msg['content']['data'], msg);\n",
       "        // Pass the mpl event to the overridden (by mpl) onmessage function.\n",
       "        ws.onmessage(msg['content']['data']);\n",
       "    });\n",
       "    return ws;\n",
       "};\n",
       "\n",
       "mpl.mpl_figure_comm = function (comm, msg) {\n",
       "    // This is the function which gets called when the mpl process\n",
       "    // starts-up an IPython Comm through the \"matplotlib\" channel.\n",
       "\n",
       "    var id = msg.content.data.id;\n",
       "    // Get hold of the div created by the display call when the Comm\n",
       "    // socket was opened in Python.\n",
       "    var element = document.getElementById(id);\n",
       "    var ws_proxy = comm_websocket_adapter(comm);\n",
       "\n",
       "    function ondownload(figure, _format) {\n",
       "        window.open(figure.canvas.toDataURL());\n",
       "    }\n",
       "\n",
       "    var fig = new mpl.figure(id, ws_proxy, ondownload, element);\n",
       "\n",
       "    // Call onopen now - mpl needs it, as it is assuming we've passed it a real\n",
       "    // web socket which is closed, not our websocket->open comm proxy.\n",
       "    ws_proxy.onopen();\n",
       "\n",
       "    fig.parent_element = element;\n",
       "    fig.cell_info = mpl.find_output_cell(\"<div id='\" + id + \"'></div>\");\n",
       "    if (!fig.cell_info) {\n",
       "        console.error('Failed to find cell for figure', id, fig);\n",
       "        return;\n",
       "    }\n",
       "};\n",
       "\n",
       "mpl.figure.prototype.handle_close = function (fig, msg) {\n",
       "    var width = fig.canvas.width / mpl.ratio;\n",
       "    fig.root.removeEventListener('remove', this._remove_fig_handler);\n",
       "\n",
       "    // Update the output cell to use the data from the current canvas.\n",
       "    fig.push_to_output();\n",
       "    var dataURL = fig.canvas.toDataURL();\n",
       "    // Re-enable the keyboard manager in IPython - without this line, in FF,\n",
       "    // the notebook keyboard shortcuts fail.\n",
       "    IPython.keyboard_manager.enable();\n",
       "    fig.parent_element.innerHTML =\n",
       "        '<img src=\"' + dataURL + '\" width=\"' + width + '\">';\n",
       "    fig.close_ws(fig, msg);\n",
       "};\n",
       "\n",
       "mpl.figure.prototype.close_ws = function (fig, msg) {\n",
       "    fig.send_message('closing', msg);\n",
       "    // fig.ws.close()\n",
       "};\n",
       "\n",
       "mpl.figure.prototype.push_to_output = function (_remove_interactive) {\n",
       "    // Turn the data on the canvas into data in the output cell.\n",
       "    var width = this.canvas.width / mpl.ratio;\n",
       "    var dataURL = this.canvas.toDataURL();\n",
       "    this.cell_info[1]['text/html'] =\n",
       "        '<img src=\"' + dataURL + '\" width=\"' + width + '\">';\n",
       "};\n",
       "\n",
       "mpl.figure.prototype.updated_canvas_event = function () {\n",
       "    // Tell IPython that the notebook contents must change.\n",
       "    IPython.notebook.set_dirty(true);\n",
       "    this.send_message('ack', {});\n",
       "    var fig = this;\n",
       "    // Wait a second, then push the new image to the DOM so\n",
       "    // that it is saved nicely (might be nice to debounce this).\n",
       "    setTimeout(function () {\n",
       "        fig.push_to_output();\n",
       "    }, 1000);\n",
       "};\n",
       "\n",
       "mpl.figure.prototype._init_toolbar = function () {\n",
       "    var fig = this;\n",
       "\n",
       "    var toolbar = document.createElement('div');\n",
       "    toolbar.classList = 'btn-toolbar';\n",
       "    this.root.appendChild(toolbar);\n",
       "\n",
       "    function on_click_closure(name) {\n",
       "        return function (_event) {\n",
       "            return fig.toolbar_button_onclick(name);\n",
       "        };\n",
       "    }\n",
       "\n",
       "    function on_mouseover_closure(tooltip) {\n",
       "        return function (event) {\n",
       "            if (!event.currentTarget.disabled) {\n",
       "                return fig.toolbar_button_onmouseover(tooltip);\n",
       "            }\n",
       "        };\n",
       "    }\n",
       "\n",
       "    fig.buttons = {};\n",
       "    var buttonGroup = document.createElement('div');\n",
       "    buttonGroup.classList = 'btn-group';\n",
       "    var button;\n",
       "    for (var toolbar_ind in mpl.toolbar_items) {\n",
       "        var name = mpl.toolbar_items[toolbar_ind][0];\n",
       "        var tooltip = mpl.toolbar_items[toolbar_ind][1];\n",
       "        var image = mpl.toolbar_items[toolbar_ind][2];\n",
       "        var method_name = mpl.toolbar_items[toolbar_ind][3];\n",
       "\n",
       "        if (!name) {\n",
       "            /* Instead of a spacer, we start a new button group. */\n",
       "            if (buttonGroup.hasChildNodes()) {\n",
       "                toolbar.appendChild(buttonGroup);\n",
       "            }\n",
       "            buttonGroup = document.createElement('div');\n",
       "            buttonGroup.classList = 'btn-group';\n",
       "            continue;\n",
       "        }\n",
       "\n",
       "        button = fig.buttons[name] = document.createElement('button');\n",
       "        button.classList = 'btn btn-default';\n",
       "        button.href = '#';\n",
       "        button.title = name;\n",
       "        button.innerHTML = '<i class=\"fa ' + image + ' fa-lg\"></i>';\n",
       "        button.addEventListener('click', on_click_closure(method_name));\n",
       "        button.addEventListener('mouseover', on_mouseover_closure(tooltip));\n",
       "        buttonGroup.appendChild(button);\n",
       "    }\n",
       "\n",
       "    if (buttonGroup.hasChildNodes()) {\n",
       "        toolbar.appendChild(buttonGroup);\n",
       "    }\n",
       "\n",
       "    // Add the status bar.\n",
       "    var status_bar = document.createElement('span');\n",
       "    status_bar.classList = 'mpl-message pull-right';\n",
       "    toolbar.appendChild(status_bar);\n",
       "    this.message = status_bar;\n",
       "\n",
       "    // Add the close button to the window.\n",
       "    var buttongrp = document.createElement('div');\n",
       "    buttongrp.classList = 'btn-group inline pull-right';\n",
       "    button = document.createElement('button');\n",
       "    button.classList = 'btn btn-mini btn-primary';\n",
       "    button.href = '#';\n",
       "    button.title = 'Stop Interaction';\n",
       "    button.innerHTML = '<i class=\"fa fa-power-off icon-remove icon-large\"></i>';\n",
       "    button.addEventListener('click', function (_evt) {\n",
       "        fig.handle_close(fig, {});\n",
       "    });\n",
       "    button.addEventListener(\n",
       "        'mouseover',\n",
       "        on_mouseover_closure('Stop Interaction')\n",
       "    );\n",
       "    buttongrp.appendChild(button);\n",
       "    var titlebar = this.root.querySelector('.ui-dialog-titlebar');\n",
       "    titlebar.insertBefore(buttongrp, titlebar.firstChild);\n",
       "};\n",
       "\n",
       "mpl.figure.prototype._remove_fig_handler = function () {\n",
       "    this.close_ws(this, {});\n",
       "};\n",
       "\n",
       "mpl.figure.prototype._root_extra_style = function (el) {\n",
       "    el.style.boxSizing = 'content-box'; // override notebook setting of border-box.\n",
       "    el.addEventListener('remove', this._remove_fig_handler);\n",
       "};\n",
       "\n",
       "mpl.figure.prototype._canvas_extra_style = function (el) {\n",
       "    // this is important to make the div 'focusable\n",
       "    el.setAttribute('tabindex', 0);\n",
       "    // reach out to IPython and tell the keyboard manager to turn it's self\n",
       "    // off when our div gets focus\n",
       "\n",
       "    // location in version 3\n",
       "    if (IPython.notebook.keyboard_manager) {\n",
       "        IPython.notebook.keyboard_manager.register_events(el);\n",
       "    } else {\n",
       "        // location in version 2\n",
       "        IPython.keyboard_manager.register_events(el);\n",
       "    }\n",
       "};\n",
       "\n",
       "mpl.figure.prototype._key_event_extra = function (event, _name) {\n",
       "    var manager = IPython.notebook.keyboard_manager;\n",
       "    if (!manager) {\n",
       "        manager = IPython.keyboard_manager;\n",
       "    }\n",
       "\n",
       "    // Check for shift+enter\n",
       "    if (event.shiftKey && event.which === 13) {\n",
       "        this.canvas_div.blur();\n",
       "        // select the cell after this one\n",
       "        var index = IPython.notebook.find_cell_index(this.cell_info[0]);\n",
       "        IPython.notebook.select(index + 1);\n",
       "    }\n",
       "};\n",
       "\n",
       "mpl.figure.prototype.handle_save = function (fig, _msg) {\n",
       "    fig.ondownload(fig, null);\n",
       "};\n",
       "\n",
       "mpl.find_output_cell = function (html_output) {\n",
       "    // Return the cell and output element which can be found *uniquely* in the notebook.\n",
       "    // Note - this is a bit hacky, but it is done because the \"notebook_saving.Notebook\"\n",
       "    // IPython event is triggered only after the cells have been serialised, which for\n",
       "    // our purposes (turning an active figure into a static one), is too late.\n",
       "    var cells = IPython.notebook.get_cells();\n",
       "    var ncells = cells.length;\n",
       "    for (var i = 0; i < ncells; i++) {\n",
       "        var cell = cells[i];\n",
       "        if (cell.cell_type === 'code') {\n",
       "            for (var j = 0; j < cell.output_area.outputs.length; j++) {\n",
       "                var data = cell.output_area.outputs[j];\n",
       "                if (data.data) {\n",
       "                    // IPython >= 3 moved mimebundle to data attribute of output\n",
       "                    data = data.data;\n",
       "                }\n",
       "                if (data['text/html'] === html_output) {\n",
       "                    return [cell, data, j];\n",
       "                }\n",
       "            }\n",
       "        }\n",
       "    }\n",
       "};\n",
       "\n",
       "// Register the function which deals with the matplotlib target/channel.\n",
       "// The kernel may be null if the page has been refreshed.\n",
       "if (IPython.notebook.kernel !== null) {\n",
       "    IPython.notebook.kernel.comm_manager.register_target(\n",
       "        'matplotlib',\n",
       "        mpl.mpl_figure_comm\n",
       "    );\n",
       "}\n"
      ],
      "text/plain": [
       "<IPython.core.display.Javascript object>"
      ]
     },
     "metadata": {},
     "output_type": "display_data"
    },
    {
     "data": {
      "text/html": [
       "<div id='18274e97-b060-4616-bffe-7e0814068d7a'></div>"
      ],
      "text/plain": [
       "<IPython.core.display.HTML object>"
      ]
     },
     "metadata": {},
     "output_type": "display_data"
    }
   ],
   "source": [
    "batch_size = 128\n",
    "n_epochs = 50\n",
    "learning_rate = 0.002\n",
    "\n",
    "rnn = RNN(input_size=len(charset), hidden_size=120, output_size=len(names_dict.keys()))\n",
    "\n",
    "train(rnn, n_epochs, learning_rate, batch_size, train_dataset, val_dataset)"
   ]
  },
  {
   "cell_type": "markdown",
   "metadata": {
    "deletable": false,
    "editable": false,
    "nbgrader": {
     "cell_type": "markdown",
     "checksum": "ec7510ce50876d9072ff172b5a6bed05",
     "grade": false,
     "grade_id": "cell-b59e32abfa0bf9ef",
     "locked": true,
     "schema_version": 3,
     "solution": false
    }
   },
   "source": [
    "Make sure you obtain at least 0.3 F1-score in the validation set before proceeding."
   ]
  },
  {
   "cell_type": "markdown",
   "metadata": {
    "deletable": false,
    "editable": false,
    "nbgrader": {
     "cell_type": "markdown",
     "checksum": "0c90c4448ae9e3cfffa5e8dc30b21411",
     "grade": false,
     "grade_id": "cell-09fe0d5786ed0073",
     "locked": true,
     "schema_version": 3,
     "solution": false
    }
   },
   "source": [
    "### 1.6 Evaluation"
   ]
  },
  {
   "cell_type": "markdown",
   "metadata": {
    "deletable": false,
    "editable": false,
    "nbgrader": {
     "cell_type": "markdown",
     "checksum": "32ba20bdba94d72537d559f5d7fed869",
     "grade": false,
     "grade_id": "cell-098308391c682cd8",
     "locked": true,
     "schema_version": 3,
     "solution": false
    }
   },
   "source": [
    "Now that our model is trained, we can evaluate its predictions on the test set. "
   ]
  },
  {
   "cell_type": "code",
   "execution_count": 50,
   "metadata": {
    "deletable": false,
    "editable": false,
    "nbgrader": {
     "cell_type": "code",
     "checksum": "d028367fa4f2b8e07b9f412bc0dc82cc",
     "grade": false,
     "grade_id": "cell-ee9fecbd4fc5e6cd",
     "locked": true,
     "schema_version": 3,
     "solution": false
    }
   },
   "outputs": [],
   "source": [
    "# Get all samples from the test set\n",
    "x_test, y_test = test_dataset[:]\n",
    "\n",
    "# Compute predictions\n",
    "with torch.no_grad():\n",
    "    test_out, _ = batch_forward_prop(rnn, x_test, y_test)\n",
    "\n",
    "# Transform them into hard predictions\n",
    "preds = test_out.argmax(dim=1)\n",
    "\n",
    "# Get `preds` as a numpy array\n",
    "preds = preds.cpu().numpy()"
   ]
  },
  {
   "cell_type": "markdown",
   "metadata": {
    "deletable": false,
    "editable": false,
    "nbgrader": {
     "cell_type": "markdown",
     "checksum": "5fdeb2d6a4e4a5402f0feb9554634e15",
     "grade": false,
     "grade_id": "cell-6968066e3b5b4085",
     "locked": true,
     "schema_version": 3,
     "solution": false
    }
   },
   "source": [
    "Using these predictions, we can compute the confusion matrix on the test set as follows."
   ]
  },
  {
   "cell_type": "code",
   "execution_count": 51,
   "metadata": {
    "deletable": false,
    "editable": false,
    "nbgrader": {
     "cell_type": "code",
     "checksum": "2ca8a97e26fea408fe09e4eed8350526",
     "grade": false,
     "grade_id": "cell-003dfbe728ab93f4",
     "locked": true,
     "schema_version": 3,
     "solution": false
    }
   },
   "outputs": [
    {
     "data": {
      "text/plain": [
       "array([[0.17714286, 0.06285714, 0.08      , ..., 0.01142857, 0.01142857,\n",
       "        0.        ],\n",
       "       [0.14285714, 0.11428571, 0.08571429, ..., 0.05714286, 0.        ,\n",
       "        0.        ],\n",
       "       [0.08813559, 0.01864407, 0.06949153, ..., 0.00847458, 0.00508475,\n",
       "        0.00169492],\n",
       "       ...,\n",
       "       [0.        , 0.00492611, 0.        , ..., 0.79802956, 0.00492611,\n",
       "        0.        ],\n",
       "       [0.        , 0.01604278, 0.        , ..., 0.02673797, 0.78609626,\n",
       "        0.03208556],\n",
       "       [0.        , 0.03636364, 0.        , ..., 0.        , 0.07272727,\n",
       "        0.63636364]])"
      ]
     },
     "execution_count": 51,
     "metadata": {},
     "output_type": "execute_result"
    }
   ],
   "source": [
    "from sklearn.metrics import confusion_matrix\n",
    "\n",
    "# Compute the confusion matrix\n",
    "y_true = y_test.cpu().numpy()\n",
    "cm = confusion_matrix(y_true, preds)\n",
    "cm = cm.astype('float64')\n",
    "\n",
    "# Normalize each row\n",
    "for i in range(cm.shape[0]):\n",
    "    cm[i, :] = cm[i, :] / sum(cm[i, :])\n",
    "    \n",
    "cm"
   ]
  },
  {
   "cell_type": "markdown",
   "metadata": {
    "deletable": false,
    "editable": false,
    "nbgrader": {
     "cell_type": "markdown",
     "checksum": "498ae92e6253b9951570fd782bb67f28",
     "grade": false,
     "grade_id": "cell-d0a5d53862716ff5",
     "locked": true,
     "schema_version": 3,
     "solution": false
    }
   },
   "source": [
    "In order to make this easier to visualize, let's plot it as a heat map:"
   ]
  },
  {
   "cell_type": "code",
   "execution_count": 52,
   "metadata": {
    "deletable": false,
    "editable": false,
    "nbgrader": {
     "cell_type": "code",
     "checksum": "5eed47cfe9145966604d70f8a0ae1ab5",
     "grade": false,
     "grade_id": "cell-0ac30bac8eee0481",
     "locked": true,
     "schema_version": 3,
     "solution": false
    }
   },
   "outputs": [
    {
     "data": {
      "image/png": "[encoded data removed]",
      "text/plain": [
       "<Figure size 720x720 with 1 Axes>"
      ]
     },
     "metadata": {
      "needs_background": "light"
     },
     "output_type": "display_data"
    }
   ],
   "source": [
    "%matplotlib inline\n",
    "plt.figure(figsize=(10, 10))\n",
    "plt.imshow(cm)\n",
    "plt.xticks(range(len(names_dict)), names_dict.keys(), rotation='vertical')\n",
    "plt.yticks(range(len(names_dict)), names_dict.keys())\n",
    "plt.xlabel('Predicted label')\n",
    "plt.ylabel('True label')\n",
    "plt.show()"
   ]
  },
  {
   "cell_type": "markdown",
   "metadata": {
    "deletable": false,
    "editable": false,
    "nbgrader": {
     "cell_type": "markdown",
     "checksum": "852b7b1df9a5fa5dbf9ab50a5f6ec601",
     "grade": false,
     "grade_id": "cell-baa17f34d2c98af3",
     "locked": true,
     "schema_version": 3,
     "solution": false
    }
   },
   "source": [
    "Why did we normalize the rows of the confusion matrix? "
   ]
  },
  {
   "cell_type": "markdown",
   "metadata": {
    "deletable": false,
    "nbgrader": {
     "cell_type": "markdown",
     "checksum": "02945e3740619fdfadc8beb6c4036561",
     "grade": true,
     "grade_id": "cell-5e952f1af1335cd1",
     "locked": false,
     "points": 0,
     "schema_version": 3,
     "solution": true
    }
   },
   "source": [
    "**Your answer:** \n",
    "By normalizing the rows we can represent the number of correctly and incorrectly classified observations for each true class in form of a percentage of the number of observations of that corresponding true class."
   ]
  },
  {
   "cell_type": "markdown",
   "metadata": {
    "deletable": false,
    "editable": false,
    "nbgrader": {
     "cell_type": "markdown",
     "checksum": "1f95d015632e2b32bbe24a4bcf37b34e",
     "grade": false,
     "grade_id": "cell-b56067b9a8f982ed",
     "locked": true,
     "schema_version": 3,
     "solution": false
    }
   },
   "source": [
    "**(1 POE)**\n",
    "What can you conclude from this confusion matrix? Which classes are easy/hard to classify? Which classes are being confused?"
   ]
  },
  {
   "cell_type": "markdown",
   "metadata": {
    "deletable": false,
    "nbgrader": {
     "cell_type": "markdown",
     "checksum": "feed9dd64f470ce4a3a867d6c6a1276e",
     "grade": true,
     "grade_id": "cell-e3597dc61426d8a3",
     "locked": false,
     "points": 1,
     "schema_version": 3,
     "solution": true
    }
   },
   "source": [
    "**Your answer:** \n",
    "\n",
    "The rnn is far from perfect, and it preforms very differently on the different countries. It works especially well on predicting names from China correctly. Other countries that the algorithm predicts fairly accurate are Japan, Korea, Vietnam, Lithuania and Iceland. This might be that the names in theese countries are very specific for the country in question.\n",
    "\n",
    "The model preform worse on predicting names from Great Britain, Ireland, USA, Spain and Denmark. The explaination for this could be that either there is a large diversity among the names within the class or that there isn't enough data for the classes."
   ]
  },
  {
   "cell_type": "markdown",
   "metadata": {
    "deletable": false,
    "editable": false,
    "nbgrader": {
     "cell_type": "markdown",
     "checksum": "9ff548903b15da02335b1f0111ac9c4a",
     "grade": false,
     "grade_id": "cell-a1cd31c6856025a5",
     "locked": true,
     "schema_version": 3,
     "solution": false
    }
   },
   "source": [
    "To end this task, we can now define a function to perform predictions on any input name we provide (as long as the name contains only characters in our character set)."
   ]
  },
  {
   "cell_type": "code",
   "execution_count": 53,
   "metadata": {
    "deletable": false,
    "editable": false,
    "nbgrader": {
     "cell_type": "code",
     "checksum": "16ff9962bca7277a96de8620d03b1264",
     "grade": false,
     "grade_id": "cell-07f9089a7c996db0",
     "locked": true,
     "schema_version": 3,
     "solution": false
    }
   },
   "outputs": [],
   "source": [
    "def evaluate(name_tensor):\n",
    "    with torch.no_grad():\n",
    "        hidden = torch.zeros(1, rnn.hidden_size).to(device)\n",
    "        for i in range(name_tensor.shape[1]):\n",
    "            output, hidden = rnn(name_tensor[:, i, :], hidden)\n",
    "    return output.exp()\n",
    "\n",
    "def predict(input_line, n_predictions=5):\n",
    "    tensor = name2tensor(input_line).to(device)[None, :]\n",
    "    output = evaluate(tensor)\n",
    "\n",
    "    # Get top N categories\n",
    "    topv, topi = output.topk(n_predictions, 1, True)\n",
    "    topv, topi = topv[0], topi[0]\n",
    "        \n",
    "    cats = [list(names_dict.keys())[i] for i in topi.cpu().numpy()]\n",
    "    vs = topv.cpu().numpy()\n",
    "\n",
    "    plt.figure(figsize=(10,3))\n",
    "    plt.bar(range(len(vs)), vs)\n",
    "    plt.xticks(range(len(vs)), cats)"
   ]
  },
  {
   "cell_type": "code",
   "execution_count": 54,
   "metadata": {
    "deletable": false,
    "editable": false,
    "nbgrader": {
     "cell_type": "code",
     "checksum": "663d002913d786ae06797435cabb49b3",
     "grade": false,
     "grade_id": "cell-ee607ec26d687e7a",
     "locked": true,
     "schema_version": 3,
     "solution": false
    }
   },
   "outputs": [
    {
     "data": {
      "image/png": "[encoded data removed]",
      "text/plain": [
       "<Figure size 720x216 with 1 Axes>"
      ]
     },
     "metadata": {
      "needs_background": "light"
     },
     "output_type": "display_data"
    }
   ],
   "source": [
    "predict('Åsakvi')"
   ]
  },
  {
   "cell_type": "code",
   "execution_count": 55,
   "metadata": {
    "deletable": false,
    "editable": false,
    "nbgrader": {
     "cell_type": "code",
     "checksum": "de6ea4fca69dcdfafe0989d3c5a18f2b",
     "grade": false,
     "grade_id": "cell-fcc84c5b71d65216",
     "locked": true,
     "schema_version": 3,
     "solution": false
    }
   },
   "outputs": [
    {
     "data": {
      "image/png": "[encoded data removed]",
      "text/plain": [
       "<Figure size 720x216 with 1 Axes>"
      ]
     },
     "metadata": {
      "needs_background": "light"
     },
     "output_type": "display_data"
    }
   ],
   "source": [
    "predict('Harakabim')"
   ]
  },
  {
   "cell_type": "code",
   "execution_count": 56,
   "metadata": {
    "deletable": false,
    "editable": false,
    "nbgrader": {
     "cell_type": "code",
     "checksum": "8677e866517c65d978435ec0bd2c7213",
     "grade": false,
     "grade_id": "cell-d8af5b38ed527dc0",
     "locked": true,
     "schema_version": 3,
     "solution": false
    }
   },
   "outputs": [
    {
     "data": {
      "image/png": "[encoded data removed]",
      "text/plain": [
       "<Figure size 720x216 with 1 Axes>"
      ]
     },
     "metadata": {
      "needs_background": "light"
     },
     "output_type": "display_data"
    }
   ],
   "source": [
    "predict('Alakazam')"
   ]
  },
  {
   "cell_type": "code",
   "execution_count": 57,
   "metadata": {
    "deletable": false,
    "editable": false,
    "nbgrader": {
     "cell_type": "code",
     "checksum": "8aeaf021219a2f4697067d2fd4a41506",
     "grade": false,
     "grade_id": "cell-608a1a0a87fdcfbc",
     "locked": true,
     "schema_version": 3,
     "solution": false
    }
   },
   "outputs": [
    {
     "data": {
      "image/png": "[encoded data removed]",
      "text/plain": [
       "<Figure size 720x216 with 1 Axes>"
      ]
     },
     "metadata": {
      "needs_background": "light"
     },
     "output_type": "display_data"
    }
   ],
   "source": [
    "predict('Jin Quaio')"
   ]
  },
  {
   "cell_type": "code",
   "execution_count": 58,
   "metadata": {
    "deletable": false,
    "editable": false,
    "nbgrader": {
     "cell_type": "code",
     "checksum": "82b217f4a574a2cc23ad6233505d1d3e",
     "grade": false,
     "grade_id": "cell-9e46296a62c4ad3b",
     "locked": true,
     "schema_version": 3,
     "solution": false
    }
   },
   "outputs": [
    {
     "data": {
      "image/png": "[encoded data removed]",
      "text/plain": [
       "<Figure size 720x216 with 1 Axes>"
      ]
     },
     "metadata": {
      "needs_background": "light"
     },
     "output_type": "display_data"
    }
   ],
   "source": [
    "predict('Leonardino')"
   ]
  },
  {
   "cell_type": "code",
   "execution_count": 59,
   "metadata": {
    "deletable": false,
    "editable": false,
    "nbgrader": {
     "cell_type": "code",
     "checksum": "e2cbe7f4dcf0f10d6f011dca38976ec9",
     "grade": false,
     "grade_id": "cell-7107524e76e71c41",
     "locked": true,
     "schema_version": 3,
     "solution": false
    }
   },
   "outputs": [
    {
     "data": {
      "image/png": "[encoded data removed]",
      "text/plain": [
       "<Figure size 720x216 with 1 Axes>"
      ]
     },
     "metadata": {
      "needs_background": "light"
     },
     "output_type": "display_data"
    }
   ],
   "source": [
    "predict('Kim Sung')"
   ]
  },
  {
   "cell_type": "code",
   "execution_count": 60,
   "metadata": {
    "deletable": false,
    "editable": false,
    "nbgrader": {
     "cell_type": "code",
     "checksum": "aafceedc4f3f9ddbacf4b76548e8aa95",
     "grade": false,
     "grade_id": "cell-e5c047f1d1960750",
     "locked": true,
     "schema_version": 3,
     "solution": false
    }
   },
   "outputs": [
    {
     "data": {
      "image/png": "[encoded data removed]",
      "text/plain": [
       "<Figure size 720x216 with 1 Axes>"
      ]
     },
     "metadata": {
      "needs_background": "light"
     },
     "output_type": "display_data"
    }
   ],
   "source": [
    "predict('Thanos')"
   ]
  },
  {
   "cell_type": "code",
   "execution_count": 61,
   "metadata": {
    "deletable": false,
    "editable": false,
    "nbgrader": {
     "cell_type": "code",
     "checksum": "7c82ec8b8c895b208611f139201ac560",
     "grade": false,
     "grade_id": "cell-fc41f7e0ab00a192",
     "locked": true,
     "schema_version": 3,
     "solution": false
    }
   },
   "outputs": [
    {
     "data": {
      "image/png": "[encoded data removed]",
      "text/plain": [
       "<Figure size 720x216 with 1 Axes>"
      ]
     },
     "metadata": {
      "needs_background": "light"
     },
     "output_type": "display_data"
    }
   ],
   "source": [
    "predict('Viiviika')"
   ]
  },
  {
   "cell_type": "markdown",
   "metadata": {
    "deletable": false,
    "editable": false,
    "nbgrader": {
     "cell_type": "markdown",
     "checksum": "bdf82da73d54b9f9e00cb0f323dcf206",
     "grade": false,
     "grade_id": "cell-5b8cdb44355a89df",
     "locked": true,
     "schema_version": 3,
     "solution": false
    }
   },
   "source": [
    "Experiment on new names using the next cell:"
   ]
  },
  {
   "cell_type": "code",
   "execution_count": 62,
   "metadata": {},
   "outputs": [
    {
     "data": {
      "image/png": "[encoded data removed]",
      "text/plain": [
       "<Figure size 720x216 with 1 Axes>"
      ]
     },
     "metadata": {
      "needs_background": "light"
     },
     "output_type": "display_data"
    }
   ],
   "source": [
    "predict('Giovani')"
   ]
  },
  {
   "cell_type": "code",
   "execution_count": 63,
   "metadata": {},
   "outputs": [
    {
     "data": {
      "image/png": "[encoded data removed]",
      "text/plain": [
       "<Figure size 720x216 with 1 Axes>"
      ]
     },
     "metadata": {
      "needs_background": "light"
     },
     "output_type": "display_data"
    }
   ],
   "source": [
    "predict('Emma')"
   ]
  },
  {
   "cell_type": "code",
   "execution_count": 64,
   "metadata": {},
   "outputs": [
    {
     "data": {
      "image/png": "[encoded data removed]",
      "text/plain": [
       "<Figure size 720x216 with 1 Axes>"
      ]
     },
     "metadata": {
      "needs_background": "light"
     },
     "output_type": "display_data"
    }
   ],
   "source": [
    "predict('Ella')"
   ]
  }
 ],
 "metadata": {
  "kernelspec": {
   "display_name": "Python 3",
   "language": "python",
   "name": "python3"
  },
  "language_info": {
   "codemirror_mode": {
    "name": "ipython",
    "version": 3
   },
   "file_extension": ".py",
   "mimetype": "text/x-python",
   "name": "python",
   "nbconvert_exporter": "python",
   "pygments_lexer": "ipython3",
   "version": "3.8.3"
  }
 },
 "nbformat": 4,
 "nbformat_minor": 2
}
